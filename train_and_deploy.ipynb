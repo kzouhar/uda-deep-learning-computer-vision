{
 "cells": [
  {
   "cell_type": "markdown",
   "metadata": {},
   "source": [
    "# TODO: Title\n",
    "\n",
    "This notebook lists all the steps that you need to complete the complete this project. You will need to complete all the TODOs in this notebook as well as in the README and the two python scripts included with the starter code.\n",
    "\n",
    "\n",
    "**TODO**: Give a helpful introduction to what this notebook is for. Remember that comments, explanations and good documentation make your project informative and professional.\n",
    "\n",
    "**Note:** This notebook has a bunch of code and markdown cells with TODOs that you have to complete. These are meant to be helpful guidelines for you to finish your project while meeting the requirements in the project rubrics. Feel free to change the order of these the TODO's and use more than one TODO code cell to do all your tasks."
   ]
  },
  {
   "cell_type": "code",
   "execution_count": 1,
   "metadata": {
    "pycharm": {
     "is_executing": true
    },
    "scrolled": true,
    "tags": []
   },
   "outputs": [
    {
     "name": "stdout",
     "output_type": "stream",
     "text": [
      "Looking in indexes: https://pypi.org/simple, https://pip.repos.neuron.amazonaws.com\n",
      "Requirement already satisfied: smdebug in /home/ec2-user/anaconda3/envs/amazonei_pytorch_latest_p37/lib/python3.7/site-packages (1.0.12)\n",
      "Requirement already satisfied: numpy>=1.16.0 in /home/ec2-user/anaconda3/envs/amazonei_pytorch_latest_p37/lib/python3.7/site-packages (from smdebug) (1.21.6)\n",
      "Requirement already satisfied: packaging in /home/ec2-user/anaconda3/envs/amazonei_pytorch_latest_p37/lib/python3.7/site-packages (from smdebug) (21.3)\n",
      "Requirement already satisfied: boto3>=1.10.32 in /home/ec2-user/anaconda3/envs/amazonei_pytorch_latest_p37/lib/python3.7/site-packages (from smdebug) (1.26.114)\n",
      "Requirement already satisfied: protobuf>=3.6.0 in /home/ec2-user/anaconda3/envs/amazonei_pytorch_latest_p37/lib/python3.7/site-packages (from smdebug) (3.20.3)\n",
      "Requirement already satisfied: pyinstrument==3.4.2 in /home/ec2-user/anaconda3/envs/amazonei_pytorch_latest_p37/lib/python3.7/site-packages (from smdebug) (3.4.2)\n",
      "Requirement already satisfied: pyinstrument-cext>=0.2.2 in /home/ec2-user/anaconda3/envs/amazonei_pytorch_latest_p37/lib/python3.7/site-packages (from pyinstrument==3.4.2->smdebug) (0.2.4)\n",
      "Requirement already satisfied: s3transfer<0.7.0,>=0.6.0 in /home/ec2-user/anaconda3/envs/amazonei_pytorch_latest_p37/lib/python3.7/site-packages (from boto3>=1.10.32->smdebug) (0.6.0)\n",
      "Requirement already satisfied: botocore<1.30.0,>=1.29.114 in /home/ec2-user/anaconda3/envs/amazonei_pytorch_latest_p37/lib/python3.7/site-packages (from boto3>=1.10.32->smdebug) (1.29.114)\n",
      "Requirement already satisfied: jmespath<2.0.0,>=0.7.1 in /home/ec2-user/anaconda3/envs/amazonei_pytorch_latest_p37/lib/python3.7/site-packages (from boto3>=1.10.32->smdebug) (1.0.1)\n",
      "Requirement already satisfied: pyparsing!=3.0.5,>=2.0.2 in /home/ec2-user/anaconda3/envs/amazonei_pytorch_latest_p37/lib/python3.7/site-packages (from packaging->smdebug) (3.0.9)\n",
      "Requirement already satisfied: python-dateutil<3.0.0,>=2.1 in /home/ec2-user/anaconda3/envs/amazonei_pytorch_latest_p37/lib/python3.7/site-packages (from botocore<1.30.0,>=1.29.114->boto3>=1.10.32->smdebug) (2.8.2)\n",
      "Requirement already satisfied: urllib3<1.27,>=1.25.4 in /home/ec2-user/anaconda3/envs/amazonei_pytorch_latest_p37/lib/python3.7/site-packages (from botocore<1.30.0,>=1.29.114->boto3>=1.10.32->smdebug) (1.26.8)\n",
      "Requirement already satisfied: six>=1.5 in /home/ec2-user/anaconda3/envs/amazonei_pytorch_latest_p37/lib/python3.7/site-packages (from python-dateutil<3.0.0,>=2.1->botocore<1.30.0,>=1.29.114->boto3>=1.10.32->smdebug) (1.16.0)\n"
     ]
    }
   ],
   "source": [
    "# TODO: Install any packages that you might need\n",
    "# For instance, you will need the smdebug package\n",
    "!pip install smdebug"
   ]
  },
  {
   "cell_type": "code",
   "execution_count": 4,
   "metadata": {
    "tags": []
   },
   "outputs": [],
   "source": [
    "import sagemaker\n",
    "import boto3\n",
    "from sagemaker.pytorch import PyTorch\n",
    "from sagemaker.debugger import Rule, DebuggerHookConfig\n",
    "from torchvision import datasets, transforms\n",
    "from torchvision import transforms\n",
    "import os\n",
    "\n",
    "from sagemaker.tuner import (\n",
    "    IntegerParameter,\n",
    "    CategoricalParameter,\n",
    "    ContinuousParameter,\n",
    "    HyperparameterTuner,\n",
    ")"
   ]
  },
  {
   "cell_type": "markdown",
   "metadata": {},
   "source": [
    "## Dataset\n",
    "TODO: Explain what dataset you are using for this project. Maybe even give a small overview of the classes, class distributions etc that can help anyone not familiar with the dataset get a better understand of it."
   ]
  },
  {
   "cell_type": "code",
   "execution_count": null,
   "metadata": {
    "pycharm": {
     "is_executing": true
    },
    "tags": []
   },
   "outputs": [],
   "source": [
    "# Command to download and unzip data\n",
    "!wget https://s3-us-west-1.amazonaws.com/udacity-aind/dog-project/dogImages.zip\n",
    "!unzip dogImages.zip"
   ]
  },
  {
   "cell_type": "markdown",
   "metadata": {},
   "source": [
    "## Hyperparameter Tuning\n",
    "**TODO:** This is the part where you will finetune a pretrained model with hyperparameter tuning. Remember that you have to tune a minimum of two hyperparameters. However you are encouraged to tune more. You are also encouraged to explain why you chose to tune those particular hyperparameters and the ranges.\n",
    "\n",
    "**Note:** You will need to use the `hpo.py` script to perform hyperparameter tuning."
   ]
  },
  {
   "cell_type": "code",
   "execution_count": 5,
   "metadata": {
    "tags": []
   },
   "outputs": [
    {
     "name": "stdout",
     "output_type": "stream",
     "text": [
      "sagemaker-us-east-1-722116367570\n"
     ]
    }
   ],
   "source": [
    "# upload images to s3\n",
    "\n",
    "sagemaker_session = sagemaker.Session()\n",
    "\n",
    "bucket = sagemaker_session.default_bucket()\n",
    "print(bucket)\n",
    "\n",
    "\n"
   ]
  },
  {
   "cell_type": "code",
   "execution_count": 6,
   "metadata": {
    "tags": []
   },
   "outputs": [
    {
     "name": "stdout",
     "output_type": "stream",
     "text": [
      "input spec (in this case, just an S3 path): https://sagemaker-us-east-1-722116367570.s3.amazonaws.com/dogImages/\n"
     ]
    }
   ],
   "source": [
    "prefix = \"dogImages\"\n",
    "# inputs = sagemaker_session.upload_data(path=\"dogImages\", bucket=bucket, key_prefix=prefix)\n",
    "inputs = \"https://sagemaker-us-east-1-722116367570.s3.amazonaws.com/dogImages/\"\n",
    "print(\"input spec (in this case, just an S3 path): {}\".format(inputs))\n"
   ]
  },
  {
   "cell_type": "code",
   "execution_count": 7,
   "metadata": {
    "tags": []
   },
   "outputs": [],
   "source": [
    "objective_metric_name = \"average test loss\"\n",
    "objective_type = \"Minimize\"\n",
    "metric_definitions = [{\"Name\": \"average test loss\", \"Regex\": \"Testing Loss: ([0-9\\\\.]+)\"}]\n",
    "\n",
    "\n",
    "hyperparameter_ranges = {\n",
    "    \"lr\": ContinuousParameter(0.001, 0.1),\n",
    "    \"batch-size\": CategoricalParameter([32, 64, 128, 256, 512]),\n",
    "}\n",
    "\n",
    "role = sagemaker.get_execution_role()\n",
    "\n",
    "estimator = PyTorch(\n",
    "    entry_point=\"hpo.py\",\n",
    "    role=role,\n",
    "    py_version='py36',\n",
    "    framework_version=\"1.8\",\n",
    "    instance_count=1,\n",
    "    instance_type=\"ml.m5.large\"\n",
    ")\n",
    "\n",
    "tuner = HyperparameterTuner(\n",
    "    estimator,\n",
    "    objective_metric_name,\n",
    "    hyperparameter_ranges,\n",
    "    metric_definitions,\n",
    "    max_jobs=2,\n",
    "    max_parallel_jobs=2,\n",
    "    objective_type=objective_type,\n",
    ")"
   ]
  },
  {
   "cell_type": "code",
   "execution_count": null,
   "metadata": {},
   "outputs": [],
   "source": []
  },
  {
   "cell_type": "code",
   "execution_count": 12,
   "metadata": {
    "tags": []
   },
   "outputs": [
    {
     "name": "stdout",
     "output_type": "stream",
     "text": [
      "s3://sagemaker-us-east-1-722116367570/dogImages/\n"
     ]
    }
   ],
   "source": [
    "os.environ[\"SM_CHANNEL_TRAINING\"] = \"s3://\"+ bucket+ \"/dogImages/\"\n",
    "os.environ['SM_MODEL_DIR']=\"s3://\"+ bucket+ \"/model/\" # where model will be stored\n",
    "print(os.environ[\"SM_CHANNEL_TRAINING\"])"
   ]
  },
  {
   "cell_type": "code",
   "execution_count": null,
   "metadata": {},
   "outputs": [],
   "source": [
    "tuner.fit({\"training\": \"s3://\"+ bucket+ \"/dogImages/\"}, wait=False)"
   ]
  },
  {
   "cell_type": "code",
   "execution_count": 9,
   "metadata": {
    "tags": []
   },
   "outputs": [
    {
     "ename": "NameError",
     "evalue": "name 'tuner' is not defined",
     "output_type": "error",
     "traceback": [
      "\u001b[0;31m---------------------------------------------------------------------------\u001b[0m",
      "\u001b[0;31mNameError\u001b[0m                                 Traceback (most recent call last)",
      "\u001b[0;32m/tmp/ipykernel_9266/3845473730.py\u001b[0m in \u001b[0;36m<module>\u001b[0;34m\u001b[0m\n\u001b[1;32m      1\u001b[0m \u001b[0;31m# TODO: Get the best estimators and the best HPs\u001b[0m\u001b[0;34m\u001b[0m\u001b[0;34m\u001b[0m\u001b[0;34m\u001b[0m\u001b[0m\n\u001b[1;32m      2\u001b[0m \u001b[0;34m\u001b[0m\u001b[0m\n\u001b[0;32m----> 3\u001b[0;31m \u001b[0mbest_estimator\u001b[0m \u001b[0;34m=\u001b[0m \u001b[0mtuner\u001b[0m\u001b[0;34m.\u001b[0m\u001b[0mbest_estimator\u001b[0m\u001b[0;34m(\u001b[0m\u001b[0;34m)\u001b[0m\u001b[0;34m\u001b[0m\u001b[0;34m\u001b[0m\u001b[0m\n\u001b[0m\u001b[1;32m      4\u001b[0m \u001b[0;34m\u001b[0m\u001b[0m\n\u001b[1;32m      5\u001b[0m \u001b[0;31m#Get the hyperparameters of the best trained model\u001b[0m\u001b[0;34m\u001b[0m\u001b[0;34m\u001b[0m\u001b[0;34m\u001b[0m\u001b[0m\n",
      "\u001b[0;31mNameError\u001b[0m: name 'tuner' is not defined"
     ]
    }
   ],
   "source": [
    "# TODO: Get the best estimators and the best HPs\n",
    "\n",
    "best_estimator = tuner.best_estimator()\n",
    "\n",
    "#Get the hyperparameters of the best trained model\n",
    "best_estimator.hyperparameters()"
   ]
  },
  {
   "cell_type": "code",
   "execution_count": 8,
   "metadata": {
    "tags": []
   },
   "outputs": [],
   "source": [
    "hyperparameter_optimal_values = {\n",
    "    \"lr\": 0.0019542721389653414,\n",
    "    \"batch-size\": 32,\n",
    "}"
   ]
  },
  {
   "cell_type": "markdown",
   "metadata": {},
   "source": [
    "## Model Profiling and Debugging\n",
    "TODO: Using the best hyperparameters, create and finetune a new model\n",
    "\n",
    "**Note:** You will need to use the `train_model.py` script to perform model profiling and debugging."
   ]
  },
  {
   "cell_type": "code",
   "execution_count": 9,
   "metadata": {
    "tags": []
   },
   "outputs": [
    {
     "name": "stdout",
     "output_type": "stream",
     "text": [
      "[2023-04-26 21:01:01.121 ip-172-16-5-11.ec2.internal:13887 INFO utils.py:27] RULE_JOB_STOP_SIGNAL_FILENAME: None\n",
      "[2023-04-26 21:01:01.352 ip-172-16-5-11.ec2.internal:13887 INFO profiler_config_parser.py:111] Unable to find config at /opt/ml/input/config/profilerconfig.json. Profiler is disabled.\n"
     ]
    },
    {
     "name": "stderr",
     "output_type": "stream",
     "text": [
      "Framework profiling will be deprecated from tensorflow 2.12 and pytorch 2.0 in sagemaker>=2.\n",
      "See: https://sagemaker.readthedocs.io/en/stable/v2.html for details.\n"
     ]
    }
   ],
   "source": [
    "from sagemaker.debugger import ProfilerConfig, FrameworkProfile\n",
    "import smdebug.pytorch as smd\n",
    "from sagemaker.debugger import Rule, rule_configs\n",
    "from sagemaker.debugger import DebuggerHookConfig\n",
    "\n",
    "\n",
    "rules = [\n",
    "    Rule.sagemaker(rule_configs.vanishing_gradient()),\n",
    "    Rule.sagemaker(rule_configs.overfit()),\n",
    "    Rule.sagemaker(rule_configs.overtraining()),\n",
    "    Rule.sagemaker(rule_configs.poor_weight_initialization()),\n",
    "]\n",
    "\n",
    "hook_config = DebuggerHookConfig(\n",
    "    hook_parameters={\"train.save_interval\": \"100\", \"eval.save_interval\": \"10\"}\n",
    ")\n",
    "\n",
    "profiler_config = ProfilerConfig(\n",
    "    system_monitor_interval_millis=500, framework_profile_params=FrameworkProfile(num_steps=10)\n",
    ")\n"
   ]
  },
  {
   "cell_type": "code",
   "execution_count": 13,
   "metadata": {
    "tags": []
   },
   "outputs": [
    {
     "name": "stdout",
     "output_type": "stream",
     "text": [
      "s3://sagemaker-us-east-1-722116367570/dogImages/\n"
     ]
    }
   ],
   "source": [
    "print(os.environ[\"SM_CHANNEL_TRAINING\"])"
   ]
  },
  {
   "cell_type": "code",
   "execution_count": null,
   "metadata": {
    "tags": []
   },
   "outputs": [
    {
     "name": "stderr",
     "output_type": "stream",
     "text": [
      "INFO:botocore.credentials:Found credentials from IAM Role: BaseNotebookInstanceEc2InstanceRole\n",
      "INFO:botocore.credentials:Found credentials from IAM Role: BaseNotebookInstanceEc2InstanceRole\n",
      "INFO:sagemaker.image_uris:image_uri is not presented, retrieving image_uri based on instance_type, framework etc.\n",
      "INFO:sagemaker.image_uris:image_uri is not presented, retrieving image_uri based on instance_type, framework etc.\n",
      "INFO:sagemaker:Creating training-job with name: pytorch-training-2023-04-26-21-15-10-402\n"
     ]
    },
    {
     "name": "stdout",
     "output_type": "stream",
     "text": [
      "2023-04-26 21:15:11 Starting - Starting the training job...\n",
      "2023-04-26 21:15:45 Starting - Preparing the instances for trainingVanishingGradient: InProgress\n",
      "Overfit: InProgress\n",
      "Overtraining: InProgress\n",
      "PoorWeightInitialization: InProgress\n",
      "......\n",
      "2023-04-26 21:16:39 Downloading - Downloading input data......\n",
      "2023-04-26 21:17:51 Training - Training image download completed. Training in progress...\u001b[34mbash: cannot set terminal process group (-1): Inappropriate ioctl for device\u001b[0m\n",
      "\u001b[34mbash: no job control in this shell\u001b[0m\n",
      "\u001b[34m2023-04-26 21:17:55,256 sagemaker-training-toolkit INFO     Imported framework sagemaker_pytorch_container.training\u001b[0m\n",
      "\u001b[34m2023-04-26 21:17:55,259 sagemaker-training-toolkit INFO     No GPUs detected (normal if no gpus installed)\u001b[0m\n",
      "\u001b[34m2023-04-26 21:17:55,267 sagemaker_pytorch_container.training INFO     Block until all host DNS lookups succeed.\u001b[0m\n",
      "\u001b[34m2023-04-26 21:17:55,270 sagemaker_pytorch_container.training INFO     Invoking user training script.\u001b[0m\n",
      "\u001b[34m2023-04-26 21:17:55,465 sagemaker-training-toolkit INFO     No GPUs detected (normal if no gpus installed)\u001b[0m\n",
      "\u001b[34m2023-04-26 21:17:55,479 sagemaker-training-toolkit INFO     No GPUs detected (normal if no gpus installed)\u001b[0m\n",
      "\u001b[34m2023-04-26 21:17:55,490 sagemaker-training-toolkit INFO     No GPUs detected (normal if no gpus installed)\u001b[0m\n",
      "\u001b[34m2023-04-26 21:17:55,500 sagemaker-training-toolkit INFO     Invoking user script\u001b[0m\n",
      "\u001b[34mTraining Env:\u001b[0m\n",
      "\u001b[34m{\n",
      "    \"additional_framework_parameters\": {},\n",
      "    \"channel_input_dirs\": {\n",
      "        \"training\": \"/opt/ml/input/data/training\"\n",
      "    },\n",
      "    \"current_host\": \"algo-1\",\n",
      "    \"framework_module\": \"sagemaker_pytorch_container.training:main\",\n",
      "    \"hosts\": [\n",
      "        \"algo-1\"\n",
      "    ],\n",
      "    \"hyperparameters\": {\n",
      "        \"batch-size\": 32,\n",
      "        \"lr\": 0.0019542721389653414\n",
      "    },\n",
      "    \"input_config_dir\": \"/opt/ml/input/config\",\n",
      "    \"input_data_config\": {\n",
      "        \"training\": {\n",
      "            \"TrainingInputMode\": \"File\",\n",
      "            \"S3DistributionType\": \"FullyReplicated\",\n",
      "            \"RecordWrapperType\": \"None\"\n",
      "        }\n",
      "    },\n",
      "    \"input_dir\": \"/opt/ml/input\",\n",
      "    \"is_master\": true,\n",
      "    \"job_name\": \"pytorch-training-2023-04-26-21-15-10-402\",\n",
      "    \"log_level\": 20,\n",
      "    \"master_hostname\": \"algo-1\",\n",
      "    \"model_dir\": \"/opt/ml/model\",\n",
      "    \"module_dir\": \"s3://sagemaker-us-east-1-722116367570/pytorch-training-2023-04-26-21-15-10-402/source/sourcedir.tar.gz\",\n",
      "    \"module_name\": \"train_model\",\n",
      "    \"network_interface_name\": \"eth0\",\n",
      "    \"num_cpus\": 4,\n",
      "    \"num_gpus\": 0,\n",
      "    \"output_data_dir\": \"/opt/ml/output/data\",\n",
      "    \"output_dir\": \"/opt/ml/output\",\n",
      "    \"output_intermediate_dir\": \"/opt/ml/output/intermediate\",\n",
      "    \"resource_config\": {\n",
      "        \"current_host\": \"algo-1\",\n",
      "        \"current_instance_type\": \"ml.m5.xlarge\",\n",
      "        \"current_group_name\": \"homogeneousCluster\",\n",
      "        \"hosts\": [\n",
      "            \"algo-1\"\n",
      "        ],\n",
      "        \"instance_groups\": [\n",
      "            {\n",
      "                \"instance_group_name\": \"homogeneousCluster\",\n",
      "                \"instance_type\": \"ml.m5.xlarge\",\n",
      "                \"hosts\": [\n",
      "                    \"algo-1\"\n",
      "                ]\n",
      "            }\n",
      "        ],\n",
      "        \"network_interface_name\": \"eth0\"\n",
      "    },\n",
      "    \"user_entry_point\": \"train_model.py\"\u001b[0m\n",
      "\u001b[34m}\u001b[0m\n",
      "\u001b[34mEnvironment variables:\u001b[0m\n",
      "\u001b[34mSM_HOSTS=[\"algo-1\"]\u001b[0m\n",
      "\u001b[34mSM_NETWORK_INTERFACE_NAME=eth0\u001b[0m\n",
      "\u001b[34mSM_HPS={\"batch-size\":32,\"lr\":0.0019542721389653414}\u001b[0m\n",
      "\u001b[34mSM_USER_ENTRY_POINT=train_model.py\u001b[0m\n",
      "\u001b[34mSM_FRAMEWORK_PARAMS={}\u001b[0m\n",
      "\u001b[34mSM_RESOURCE_CONFIG={\"current_group_name\":\"homogeneousCluster\",\"current_host\":\"algo-1\",\"current_instance_type\":\"ml.m5.xlarge\",\"hosts\":[\"algo-1\"],\"instance_groups\":[{\"hosts\":[\"algo-1\"],\"instance_group_name\":\"homogeneousCluster\",\"instance_type\":\"ml.m5.xlarge\"}],\"network_interface_name\":\"eth0\"}\u001b[0m\n",
      "\u001b[34mSM_INPUT_DATA_CONFIG={\"training\":{\"RecordWrapperType\":\"None\",\"S3DistributionType\":\"FullyReplicated\",\"TrainingInputMode\":\"File\"}}\u001b[0m\n",
      "\u001b[34mSM_OUTPUT_DATA_DIR=/opt/ml/output/data\u001b[0m\n",
      "\u001b[34mSM_CHANNELS=[\"training\"]\u001b[0m\n",
      "\u001b[34mSM_CURRENT_HOST=algo-1\u001b[0m\n",
      "\u001b[34mSM_MODULE_NAME=train_model\u001b[0m\n",
      "\u001b[34mSM_LOG_LEVEL=20\u001b[0m\n",
      "\u001b[34mSM_FRAMEWORK_MODULE=sagemaker_pytorch_container.training:main\u001b[0m\n",
      "\u001b[34mSM_INPUT_DIR=/opt/ml/input\u001b[0m\n",
      "\u001b[34mSM_INPUT_CONFIG_DIR=/opt/ml/input/config\u001b[0m\n",
      "\u001b[34mSM_OUTPUT_DIR=/opt/ml/output\u001b[0m\n",
      "\u001b[34mSM_NUM_CPUS=4\u001b[0m\n",
      "\u001b[34mSM_NUM_GPUS=0\u001b[0m\n",
      "\u001b[34mSM_MODEL_DIR=/opt/ml/model\u001b[0m\n",
      "\u001b[34mSM_MODULE_DIR=s3://sagemaker-us-east-1-722116367570/pytorch-training-2023-04-26-21-15-10-402/source/sourcedir.tar.gz\u001b[0m\n",
      "\u001b[34mSM_TRAINING_ENV={\"additional_framework_parameters\":{},\"channel_input_dirs\":{\"training\":\"/opt/ml/input/data/training\"},\"current_host\":\"algo-1\",\"framework_module\":\"sagemaker_pytorch_container.training:main\",\"hosts\":[\"algo-1\"],\"hyperparameters\":{\"batch-size\":32,\"lr\":0.0019542721389653414},\"input_config_dir\":\"/opt/ml/input/config\",\"input_data_config\":{\"training\":{\"RecordWrapperType\":\"None\",\"S3DistributionType\":\"FullyReplicated\",\"TrainingInputMode\":\"File\"}},\"input_dir\":\"/opt/ml/input\",\"is_master\":true,\"job_name\":\"pytorch-training-2023-04-26-21-15-10-402\",\"log_level\":20,\"master_hostname\":\"algo-1\",\"model_dir\":\"/opt/ml/model\",\"module_dir\":\"s3://sagemaker-us-east-1-722116367570/pytorch-training-2023-04-26-21-15-10-402/source/sourcedir.tar.gz\",\"module_name\":\"train_model\",\"network_interface_name\":\"eth0\",\"num_cpus\":4,\"num_gpus\":0,\"output_data_dir\":\"/opt/ml/output/data\",\"output_dir\":\"/opt/ml/output\",\"output_intermediate_dir\":\"/opt/ml/output/intermediate\",\"resource_config\":{\"current_group_name\":\"homogeneousCluster\",\"current_host\":\"algo-1\",\"current_instance_type\":\"ml.m5.xlarge\",\"hosts\":[\"algo-1\"],\"instance_groups\":[{\"hosts\":[\"algo-1\"],\"instance_group_name\":\"homogeneousCluster\",\"instance_type\":\"ml.m5.xlarge\"}],\"network_interface_name\":\"eth0\"},\"user_entry_point\":\"train_model.py\"}\u001b[0m\n",
      "\u001b[34mSM_USER_ARGS=[\"--batch-size\",\"32\",\"--lr\",\"0.0019542721389653414\"]\u001b[0m\n",
      "\u001b[34mSM_OUTPUT_INTERMEDIATE_DIR=/opt/ml/output/intermediate\u001b[0m\n",
      "\u001b[34mSM_CHANNEL_TRAINING=/opt/ml/input/data/training\u001b[0m\n",
      "\u001b[34mSM_HP_BATCH-SIZE=32\u001b[0m\n",
      "\u001b[34mSM_HP_LR=0.0019542721389653414\u001b[0m\n",
      "\u001b[34mPYTHONPATH=/opt/ml/code:/opt/conda/bin:/opt/conda/lib/python36.zip:/opt/conda/lib/python3.6:/opt/conda/lib/python3.6/lib-dynload:/opt/conda/lib/python3.6/site-packages\u001b[0m\n",
      "\u001b[34mInvoking script with the following command:\u001b[0m\n",
      "\u001b[34m/opt/conda/bin/python3.6 train_model.py --batch-size 32 --lr 0.0019542721389653414\u001b[0m\n",
      "\u001b[34m[2023-04-26 21:17:56.492 algo-1:27 INFO utils.py:27] RULE_JOB_STOP_SIGNAL_FILENAME: None\u001b[0m\n",
      "\u001b[34m[2023-04-26 21:17:56.667 algo-1:27 INFO profiler_config_parser.py:102] Using config at /opt/ml/input/config/profilerconfig.json.\u001b[0m\n",
      "\u001b[34mHyperparameters: LR: 0.0019542721389653414, Batch Size: 32\u001b[0m\n",
      "\u001b[34mDatabase Path: /opt/ml/input/data/training\u001b[0m\n",
      "\u001b[34mRunning on Device cpu\u001b[0m\n",
      "\u001b[34m[2023-04-26 21:17:59.159 algo-1:27 INFO json_config.py:91] Creating hook from json_config at /opt/ml/input/config/debughookconfig.json.\u001b[0m\n",
      "\u001b[34m[2023-04-26 21:17:59.160 algo-1:27 INFO hook.py:201] tensorboard_dir has not been set for the hook. SMDebug will not be exporting tensorboard summaries.\u001b[0m\n",
      "\u001b[34m[2023-04-26 21:17:59.162 algo-1:27 INFO hook.py:255] Saving to /opt/ml/output/tensors\u001b[0m\n",
      "\u001b[34m[2023-04-26 21:17:59.162 algo-1:27 INFO state_store.py:77] The checkpoint config file /opt/ml/input/config/checkpointconfig.json does not exist.\u001b[0m\n",
      "\u001b[34m[2023-04-26 21:17:59.188 algo-1:27 INFO hook.py:591] name:fc.0.weight count_params:262144\u001b[0m\n",
      "\u001b[34m[2023-04-26 21:17:59.188 algo-1:27 INFO hook.py:591] name:fc.0.bias count_params:128\u001b[0m\n",
      "\u001b[34m[2023-04-26 21:17:59.188 algo-1:27 INFO hook.py:591] name:fc.2.weight count_params:17024\u001b[0m\n",
      "\u001b[34m[2023-04-26 21:17:59.189 algo-1:27 INFO hook.py:591] name:fc.2.bias count_params:133\u001b[0m\n",
      "\u001b[34m[2023-04-26 21:17:59.189 algo-1:27 INFO hook.py:593] Total Trainable Params: 279429\u001b[0m\n",
      "\u001b[34mStarting Model Training\u001b[0m\n",
      "\u001b[34mEpoch: 0, Phase: train\u001b[0m\n",
      "\u001b[34m[2023-04-26 21:17:59.648 algo-1:27 INFO hook.py:425] Monitoring the collections: losses, gradients, relu_input\u001b[0m\n",
      "\u001b[34m[2023-04-26 21:17:59.650 algo-1:27 INFO python_profiler.py:182] Dumping cProfile stats to /opt/ml/output/profiler/framework/pytorch/cprofile/27-algo-1/prestepzero-*-start-1682543876667692.8_train-0-stepstart-1682543879649637.8/python_stats.\u001b[0m\n",
      "\u001b[34m[2023-04-26 21:17:59.664 algo-1:27 INFO hook.py:488] Hook is writing from the hook with pid: 27\u001b[0m\n",
      "\u001b[34m[2023-04-26 21:18:06.506 algo-1:27 INFO python_profiler.py:182] Dumping cProfile stats to /opt/ml/output/profiler/framework/pytorch/cprofile/27-algo-1/train-0-stepstart-1682543879660899.5_train-0-forwardpassend-1682543886506204.2/python_stats.\u001b[0m\n",
      "\u001b[34mEpoch 0, Phase train, Images [32/6680 (0%)] Loss: 4.88 Accuracy: 0.0/32 (0.00%)\u001b[0m\n",
      "\u001b[34m[2023-04-26 21:18:06.899 algo-1:27 INFO python_profiler.py:182] Dumping cProfile stats to /opt/ml/output/profiler/framework/pytorch/cprofile/27-algo-1/train-0-forwardpassend-1682543886510943.8_train-1-stepstart-1682543886899254.0/python_stats.\u001b[0m\n",
      "\u001b[34m[2023-04-26 21:18:31.427 algo-1:27 INFO python_profiler.py:182] Dumping cProfile stats to /opt/ml/output/profiler/framework/pytorch/cprofile/27-algo-1/train-1-stepstart-1682543886905608.8_train-1-forwardpassend-1682543911427148.5/python_stats.\u001b[0m\n",
      "\u001b[34mEpoch 0, Phase train, Images [64/6680 (1%)] Loss: 4.86 Accuracy: 2.0/64 (3.12%)\u001b[0m\n",
      "\u001b[34m[2023-04-26 21:18:31.792 algo-1:27 INFO python_profiler.py:182] Dumping cProfile stats to /opt/ml/output/profiler/framework/pytorch/cprofile/27-algo-1/train-1-forwardpassend-1682543911429718.5_train-2-stepstart-1682543911791675.2/python_stats.\u001b[0m\n",
      "\u001b[34m[2023-04-26 21:18:54.392 algo-1:27 INFO python_profiler.py:182] Dumping cProfile stats to /opt/ml/output/profiler/framework/pytorch/cprofile/27-algo-1/train-2-stepstart-1682543911795072.8_train-2-forwardpassend-1682543934391648.8/python_stats.\u001b[0m\n",
      "\u001b[34mEpoch 0, Phase train, Images [96/6680 (1%)] Loss: 5.36 Accuracy: 2.0/96 (2.08%)\u001b[0m\n",
      "\u001b[34m[2023-04-26 21:18:54.676 algo-1:27 INFO python_profiler.py:182] Dumping cProfile stats to /opt/ml/output/profiler/framework/pytorch/cprofile/27-algo-1/train-2-forwardpassend-1682543934393596.2_train-3-stepstart-1682543934676209.0/python_stats.\u001b[0m\n",
      "\u001b[34m[2023-04-26 21:19:17.581 algo-1:27 INFO python_profiler.py:182] Dumping cProfile stats to /opt/ml/output/profiler/framework/pytorch/cprofile/27-algo-1/train-3-stepstart-1682543934679399.0_train-3-forwardpassend-1682543957580924.8/python_stats.\u001b[0m\n",
      "\u001b[34mEpoch 0, Phase train, Images [128/6680 (2%)] Loss: 5.01 Accuracy: 2.0/128 (1.56%)\u001b[0m\n",
      "\u001b[34m[2023-04-26 21:19:17.923 algo-1:27 INFO python_profiler.py:182] Dumping cProfile stats to /opt/ml/output/profiler/framework/pytorch/cprofile/27-algo-1/train-3-forwardpassend-1682543957582818.2_train-4-stepstart-1682543957923329.5/python_stats.\u001b[0m\n",
      "\u001b[34m[2023-04-26 21:19:40.520 algo-1:27 INFO python_profiler.py:182] Dumping cProfile stats to /opt/ml/output/profiler/framework/pytorch/cprofile/27-algo-1/train-4-stepstart-1682543957926661.0_train-4-forwardpassend-1682543980520011.5/python_stats.\u001b[0m\n",
      "\u001b[34mEpoch 0, Phase train, Images [160/6680 (2%)] Loss: 4.90 Accuracy: 2.0/160 (1.25%)\u001b[0m\n",
      "\u001b[34m[2023-04-26 21:19:40.922 algo-1:27 INFO python_profiler.py:182] Dumping cProfile stats to /opt/ml/output/profiler/framework/pytorch/cprofile/27-algo-1/train-4-forwardpassend-1682543980522021.0_train-5-stepstart-1682543980921452.8/python_stats.\u001b[0m\n",
      "\u001b[34m[2023-04-26 21:20:04.461 algo-1:27 INFO python_profiler.py:182] Dumping cProfile stats to /opt/ml/output/profiler/framework/pytorch/cprofile/27-algo-1/train-5-stepstart-1682543980924865.8_train-5-forwardpassend-1682544004461329.5/python_stats.\u001b[0m\n",
      "\u001b[34mEpoch 0, Phase train, Images [192/6680 (3%)] Loss: 5.03 Accuracy: 2.0/192 (1.04%)\u001b[0m\n",
      "\u001b[34m[2023-04-26 21:20:04.983 algo-1:27 INFO python_profiler.py:182] Dumping cProfile stats to /opt/ml/output/profiler/framework/pytorch/cprofile/27-algo-1/train-5-forwardpassend-1682544004463208.5_train-6-stepstart-1682544004982752.2/python_stats.\u001b[0m\n",
      "\u001b[34m[2023-04-26 21:20:27.807 algo-1:27 INFO python_profiler.py:182] Dumping cProfile stats to /opt/ml/output/profiler/framework/pytorch/cprofile/27-algo-1/train-6-stepstart-1682544004986259.2_train-6-forwardpassend-1682544027807362.8/python_stats.\u001b[0m\n",
      "\u001b[34mEpoch 0, Phase train, Images [224/6680 (3%)] Loss: 5.03 Accuracy: 2.0/224 (0.89%)\u001b[0m\n",
      "\u001b[34m[2023-04-26 21:20:28.353 algo-1:27 INFO python_profiler.py:182] Dumping cProfile stats to /opt/ml/output/profiler/framework/pytorch/cprofile/27-algo-1/train-6-forwardpassend-1682544027809363.0_train-7-stepstart-1682544028352864.8/python_stats.\u001b[0m\n",
      "\u001b[34m[2023-04-26 21:20:51.124 algo-1:27 INFO python_profiler.py:182] Dumping cProfile stats to /opt/ml/output/profiler/framework/pytorch/cprofile/27-algo-1/train-7-stepstart-1682544028356229.8_train-7-forwardpassend-1682544051124449.5/python_stats.\u001b[0m\n",
      "\u001b[34mEpoch 0, Phase train, Images [256/6680 (4%)] Loss: 4.88 Accuracy: 2.0/256 (0.78%)\u001b[0m\n",
      "\u001b[34m[2023-04-26 21:20:51.430 algo-1:27 INFO python_profiler.py:182] Dumping cProfile stats to /opt/ml/output/profiler/framework/pytorch/cprofile/27-algo-1/train-7-forwardpassend-1682544051126329.2_train-8-stepstart-1682544051429433.5/python_stats.\u001b[0m\n",
      "\u001b[34m[2023-04-26 21:21:15.331 algo-1:27 INFO python_profiler.py:182] Dumping cProfile stats to /opt/ml/output/profiler/framework/pytorch/cprofile/27-algo-1/train-8-stepstart-1682544051433121.0_train-8-forwardpassend-1682544075330576.2/python_stats.\u001b[0m\n",
      "\u001b[34mEpoch 0, Phase train, Images [288/6680 (4%)] Loss: 4.89 Accuracy: 2.0/288 (0.69%)\u001b[0m\n",
      "\u001b[34m[2023-04-26 21:21:15.763 algo-1:27 INFO python_profiler.py:182] Dumping cProfile stats to /opt/ml/output/profiler/framework/pytorch/cprofile/27-algo-1/train-8-forwardpassend-1682544075332492.0_train-9-stepstart-1682544075763259.5/python_stats.\u001b[0m\n",
      "\u001b[34m[2023-04-26 21:21:38.508 algo-1:27 INFO python_profiler.py:182] Dumping cProfile stats to /opt/ml/output/profiler/framework/pytorch/cprofile/27-algo-1/train-9-stepstart-1682544075767464.0_train-9-forwardpassend-1682544098508380.8/python_stats.\u001b[0m\n",
      "\u001b[34mEpoch 0, Phase train, Images [320/6680 (5%)] Loss: 4.88 Accuracy: 2.0/320 (0.62%)\u001b[0m\n",
      "\u001b[34m[2023-04-26 21:21:38.967 algo-1:27 INFO python_profiler.py:182] Dumping cProfile stats to /opt/ml/output/profiler/framework/pytorch/cprofile/27-algo-1/train-9-forwardpassend-1682544098510219.2_train-10-stepstart-1682544098967292.2/python_stats.\u001b[0m\n",
      "\u001b[34mEpoch 0, Phase train, Images [352/6680 (5%)] Loss: 4.86 Accuracy: 4.0/352 (1.14%)\u001b[0m\n",
      "\u001b[34mEpoch 0, Phase train, Images [384/6680 (6%)] Loss: 4.93 Accuracy: 4.0/384 (1.04%)\u001b[0m\n",
      "\u001b[34mEpoch 0, Phase train, Images [416/6680 (6%)] Loss: 4.83 Accuracy: 5.0/416 (1.20%)\u001b[0m\n",
      "\u001b[34mEpoch 0, Phase train, Images [448/6680 (7%)] Loss: 4.99 Accuracy: 5.0/448 (1.12%)\u001b[0m\n",
      "\u001b[34mEpoch 0, Phase train, Images [480/6680 (7%)] Loss: 4.96 Accuracy: 7.0/480 (1.46%)\u001b[0m\n",
      "\u001b[34mEpoch 0, Phase train, Images [512/6680 (8%)] Loss: 4.87 Accuracy: 8.0/512 (1.56%)\u001b[0m\n",
      "\u001b[34mEpoch 0, Phase train, Images [544/6680 (8%)] Loss: 4.74 Accuracy: 10.0/544 (1.84%)\u001b[0m\n",
      "\u001b[34mEpoch 0, Phase train, Images [576/6680 (9%)] Loss: 4.74 Accuracy: 10.0/576 (1.74%)\u001b[0m\n",
      "\u001b[34mEpoch 0, Phase train, Images [608/6680 (9%)] Loss: 4.78 Accuracy: 10.0/608 (1.64%)\u001b[0m\n",
      "\u001b[34mEpoch 0, Phase train, Images [640/6680 (10%)] Loss: 4.71 Accuracy: 12.0/640 (1.88%)\u001b[0m\n",
      "\u001b[34mEpoch 0, Phase train, Images [672/6680 (10%)] Loss: 4.75 Accuracy: 12.0/672 (1.79%)\u001b[0m\n",
      "\u001b[34mtrain loss: 4.0000, acc: 0.0000, best loss: 1000000.0000\u001b[0m\n",
      "\u001b[34mEpoch: 0, Phase: valid\u001b[0m\n",
      "\u001b[34mEpoch 0, Phase valid, Images [32/835 (4%)] Loss: 4.63 Accuracy: 1.0/32 (3.12%)\u001b[0m\n",
      "\u001b[34mEpoch 0, Phase valid, Images [64/835 (8%)] Loss: 4.75 Accuracy: 2.0/64 (3.12%)\u001b[0m\n",
      "\u001b[34mEpoch 0, Phase valid, Images [96/835 (11%)] Loss: 4.66 Accuracy: 3.0/96 (3.12%)\u001b[0m\n",
      "\u001b[34mvalid loss: 4.0000, acc: 0.0000, best loss: 4.0000\u001b[0m\n",
      "\u001b[34mEpoch: 1, Phase: train\u001b[0m\n",
      "\u001b[34mEpoch 1, Phase train, Images [32/6680 (0%)] Loss: 4.65 Accuracy: 4.0/32 (12.50%)\u001b[0m\n",
      "\u001b[34mEpoch 1, Phase train, Images [64/6680 (1%)] Loss: 4.72 Accuracy: 5.0/64 (7.81%)\u001b[0m\n",
      "\u001b[34mEpoch 1, Phase train, Images [160/6680 (2%)] Loss: 4.75 Accuracy: 7.0/160 (4.38%)\u001b[0m\n",
      "\u001b[34mEpoch 1, Phase train, Images [192/6680 (3%)] Loss: 4.47 Accuracy: 10.0/192 (5.21%)\u001b[0m\n",
      "\u001b[34mEpoch 1, Phase train, Images [224/6680 (3%)] Loss: 4.54 Accuracy: 11.0/224 (4.91%)\u001b[0m\n",
      "\u001b[34mEpoch 1, Phase train, Images [256/6680 (4%)] Loss: 4.65 Accuracy: 11.0/256 (4.30%)\u001b[0m\n",
      "\u001b[34mEpoch 1, Phase train, Images [288/6680 (4%)] Loss: 4.65 Accuracy: 13.0/288 (4.51%)\u001b[0m\n",
      "\u001b[34mEpoch 1, Phase train, Images [320/6680 (5%)] Loss: 4.72 Accuracy: 15.0/320 (4.69%)\u001b[0m\n",
      "\u001b[34mEpoch 1, Phase train, Images [352/6680 (5%)] Loss: 4.69 Accuracy: 15.0/352 (4.26%)\u001b[0m\n",
      "\u001b[34mEpoch 1, Phase train, Images [384/6680 (6%)] Loss: 4.60 Accuracy: 18.0/384 (4.69%)\u001b[0m\n",
      "\u001b[34mEpoch 1, Phase train, Images [416/6680 (6%)] Loss: 4.68 Accuracy: 20.0/416 (4.81%)\u001b[0m\n",
      "\u001b[34mEpoch 1, Phase train, Images [448/6680 (7%)] Loss: 4.52 Accuracy: 24.0/448 (5.36%)\u001b[0m\n"
     ]
    }
   ],
   "source": [
    "estimator = PyTorch(\n",
    "    role=sagemaker.get_execution_role(),\n",
    "    instance_count=1,\n",
    "    instance_type=\"ml.m5.xlarge\",\n",
    "    entry_point=\"train_model.py\",\n",
    "    framework_version=\"1.8\",\n",
    "    py_version='py36',\n",
    "    hyperparameters=hyperparameter_optimal_values,\n",
    "    profiler_config=profiler_config,\n",
    "    debugger_hook_config=hook_config,\n",
    "    rules=rules,\n",
    ")\n",
    "\n",
    "estimator.fit({\"training\": \"s3://\"+ bucket+ \"/dogImages/\"}, wait=True)\n",
    "\n",
    "session = boto3.session.Session()\n",
    "region = session.region_name\n"
   ]
  },
  {
   "cell_type": "code",
   "execution_count": 16,
   "metadata": {
    "tags": []
   },
   "outputs": [
    {
     "data": {
      "text/plain": [
       "'s3://sagemaker-us-east-1-722116367570/pytorch-training-2023-04-26-21-15-10-402/debug-output'"
      ]
     },
     "execution_count": 16,
     "metadata": {},
     "output_type": "execute_result"
    }
   ],
   "source": [
    "estimator.latest_job_debugger_artifacts_path()"
   ]
  },
  {
   "cell_type": "code",
   "execution_count": 18,
   "metadata": {
    "tags": []
   },
   "outputs": [
    {
     "name": "stdout",
     "output_type": "stream",
     "text": [
      "[2023-04-26 21:29:42.646 ip-172-16-5-11.ec2.internal:13887 INFO s3_trial.py:42] Loading trial debug-output at path s3://sagemaker-us-east-1-722116367570/pytorch-training-2023-04-26-21-15-10-402/debug-output\n"
     ]
    },
    {
     "name": "stderr",
     "output_type": "stream",
     "text": [
      "INFO:botocore.credentials:Found credentials from IAM Role: BaseNotebookInstanceEc2InstanceRole\n"
     ]
    }
   ],
   "source": [
    "from smdebug.trials import create_trial\n",
    "trial = create_trial(estimator.latest_job_debugger_artifacts_path())"
   ]
  },
  {
   "cell_type": "code",
   "execution_count": 25,
   "metadata": {
    "tags": []
   },
   "outputs": [
    {
     "name": "stdout",
     "output_type": "stream",
     "text": [
      "1\n",
      "4\n"
     ]
    }
   ],
   "source": [
    "from smdebug.core.modes import ModeKeys\n",
    "\n",
    "print(len(trial.tensor(\"CrossEntropyLoss_output_0\").steps(mode=ModeKeys.TRAIN)))\n",
    "print(len(trial.tensor(\"CrossEntropyLoss_output_0\").steps(mode=ModeKeys.EVAL)))"
   ]
  },
  {
   "cell_type": "code",
   "execution_count": 20,
   "metadata": {
    "tags": []
   },
   "outputs": [
    {
     "data": {
      "application/javascript": [
       "(function(root) {\n",
       "  function now() {\n",
       "    return new Date();\n",
       "  }\n",
       "\n",
       "  const force = true;\n",
       "\n",
       "  if (typeof root._bokeh_onload_callbacks === \"undefined\" || force === true) {\n",
       "    root._bokeh_onload_callbacks = [];\n",
       "    root._bokeh_is_loading = undefined;\n",
       "  }\n",
       "\n",
       "const JS_MIME_TYPE = 'application/javascript';\n",
       "  const HTML_MIME_TYPE = 'text/html';\n",
       "  const EXEC_MIME_TYPE = 'application/vnd.bokehjs_exec.v0+json';\n",
       "  const CLASS_NAME = 'output_bokeh rendered_html';\n",
       "\n",
       "  /**\n",
       "   * Render data to the DOM node\n",
       "   */\n",
       "  function render(props, node) {\n",
       "    const script = document.createElement(\"script\");\n",
       "    node.appendChild(script);\n",
       "  }\n",
       "\n",
       "  /**\n",
       "   * Handle when an output is cleared or removed\n",
       "   */\n",
       "  function handleClearOutput(event, handle) {\n",
       "    const cell = handle.cell;\n",
       "\n",
       "    const id = cell.output_area._bokeh_element_id;\n",
       "    const server_id = cell.output_area._bokeh_server_id;\n",
       "    // Clean up Bokeh references\n",
       "    if (id != null && id in Bokeh.index) {\n",
       "      Bokeh.index[id].model.document.clear();\n",
       "      delete Bokeh.index[id];\n",
       "    }\n",
       "\n",
       "    if (server_id !== undefined) {\n",
       "      // Clean up Bokeh references\n",
       "      const cmd_clean = \"from bokeh.io.state import curstate; print(curstate().uuid_to_server['\" + server_id + \"'].get_sessions()[0].document.roots[0]._id)\";\n",
       "      cell.notebook.kernel.execute(cmd_clean, {\n",
       "        iopub: {\n",
       "          output: function(msg) {\n",
       "            const id = msg.content.text.trim();\n",
       "            if (id in Bokeh.index) {\n",
       "              Bokeh.index[id].model.document.clear();\n",
       "              delete Bokeh.index[id];\n",
       "            }\n",
       "          }\n",
       "        }\n",
       "      });\n",
       "      // Destroy server and session\n",
       "      const cmd_destroy = \"import bokeh.io.notebook as ion; ion.destroy_server('\" + server_id + \"')\";\n",
       "      cell.notebook.kernel.execute(cmd_destroy);\n",
       "    }\n",
       "  }\n",
       "\n",
       "  /**\n",
       "   * Handle when a new output is added\n",
       "   */\n",
       "  function handleAddOutput(event, handle) {\n",
       "    const output_area = handle.output_area;\n",
       "    const output = handle.output;\n",
       "\n",
       "    // limit handleAddOutput to display_data with EXEC_MIME_TYPE content only\n",
       "    if ((output.output_type != \"display_data\") || (!Object.prototype.hasOwnProperty.call(output.data, EXEC_MIME_TYPE))) {\n",
       "      return\n",
       "    }\n",
       "\n",
       "    const toinsert = output_area.element.find(\".\" + CLASS_NAME.split(' ')[0]);\n",
       "\n",
       "    if (output.metadata[EXEC_MIME_TYPE][\"id\"] !== undefined) {\n",
       "      toinsert[toinsert.length - 1].firstChild.textContent = output.data[JS_MIME_TYPE];\n",
       "      // store reference to embed id on output_area\n",
       "      output_area._bokeh_element_id = output.metadata[EXEC_MIME_TYPE][\"id\"];\n",
       "    }\n",
       "    if (output.metadata[EXEC_MIME_TYPE][\"server_id\"] !== undefined) {\n",
       "      const bk_div = document.createElement(\"div\");\n",
       "      bk_div.innerHTML = output.data[HTML_MIME_TYPE];\n",
       "      const script_attrs = bk_div.children[0].attributes;\n",
       "      for (let i = 0; i < script_attrs.length; i++) {\n",
       "        toinsert[toinsert.length - 1].firstChild.setAttribute(script_attrs[i].name, script_attrs[i].value);\n",
       "        toinsert[toinsert.length - 1].firstChild.textContent = bk_div.children[0].textContent\n",
       "      }\n",
       "      // store reference to server id on output_area\n",
       "      output_area._bokeh_server_id = output.metadata[EXEC_MIME_TYPE][\"server_id\"];\n",
       "    }\n",
       "  }\n",
       "\n",
       "  function register_renderer(events, OutputArea) {\n",
       "\n",
       "    function append_mime(data, metadata, element) {\n",
       "      // create a DOM node to render to\n",
       "      const toinsert = this.create_output_subarea(\n",
       "        metadata,\n",
       "        CLASS_NAME,\n",
       "        EXEC_MIME_TYPE\n",
       "      );\n",
       "      this.keyboard_manager.register_events(toinsert);\n",
       "      // Render to node\n",
       "      const props = {data: data, metadata: metadata[EXEC_MIME_TYPE]};\n",
       "      render(props, toinsert[toinsert.length - 1]);\n",
       "      element.append(toinsert);\n",
       "      return toinsert\n",
       "    }\n",
       "\n",
       "    /* Handle when an output is cleared or removed */\n",
       "    events.on('clear_output.CodeCell', handleClearOutput);\n",
       "    events.on('delete.Cell', handleClearOutput);\n",
       "\n",
       "    /* Handle when a new output is added */\n",
       "    events.on('output_added.OutputArea', handleAddOutput);\n",
       "\n",
       "    /**\n",
       "     * Register the mime type and append_mime function with output_area\n",
       "     */\n",
       "    OutputArea.prototype.register_mime_type(EXEC_MIME_TYPE, append_mime, {\n",
       "      /* Is output safe? */\n",
       "      safe: true,\n",
       "      /* Index of renderer in `output_area.display_order` */\n",
       "      index: 0\n",
       "    });\n",
       "  }\n",
       "\n",
       "  // register the mime type if in Jupyter Notebook environment and previously unregistered\n",
       "  if (root.Jupyter !== undefined) {\n",
       "    const events = require('base/js/events');\n",
       "    const OutputArea = require('notebook/js/outputarea').OutputArea;\n",
       "\n",
       "    if (OutputArea.prototype.mime_types().indexOf(EXEC_MIME_TYPE) == -1) {\n",
       "      register_renderer(events, OutputArea);\n",
       "    }\n",
       "  }\n",
       "  if (typeof (root._bokeh_timeout) === \"undefined\" || force === true) {\n",
       "    root._bokeh_timeout = Date.now() + 5000;\n",
       "    root._bokeh_failed_load = false;\n",
       "  }\n",
       "\n",
       "  const NB_LOAD_WARNING = {'data': {'text/html':\n",
       "     \"<div style='background-color: #fdd'>\\n\"+\n",
       "     \"<p>\\n\"+\n",
       "     \"BokehJS does not appear to have successfully loaded. If loading BokehJS from CDN, this \\n\"+\n",
       "     \"may be due to a slow or bad network connection. Possible fixes:\\n\"+\n",
       "     \"</p>\\n\"+\n",
       "     \"<ul>\\n\"+\n",
       "     \"<li>re-rerun `output_notebook()` to attempt to load from CDN again, or</li>\\n\"+\n",
       "     \"<li>use INLINE resources instead, as so:</li>\\n\"+\n",
       "     \"</ul>\\n\"+\n",
       "     \"<code>\\n\"+\n",
       "     \"from bokeh.resources import INLINE\\n\"+\n",
       "     \"output_notebook(resources=INLINE)\\n\"+\n",
       "     \"</code>\\n\"+\n",
       "     \"</div>\"}};\n",
       "\n",
       "  function display_loaded() {\n",
       "    const el = document.getElementById(null);\n",
       "    if (el != null) {\n",
       "      el.textContent = \"BokehJS is loading...\";\n",
       "    }\n",
       "    if (root.Bokeh !== undefined) {\n",
       "      if (el != null) {\n",
       "        el.textContent = \"BokehJS \" + root.Bokeh.version + \" successfully loaded.\";\n",
       "      }\n",
       "    } else if (Date.now() < root._bokeh_timeout) {\n",
       "      setTimeout(display_loaded, 100)\n",
       "    }\n",
       "  }\n",
       "\n",
       "  function run_callbacks() {\n",
       "    try {\n",
       "      root._bokeh_onload_callbacks.forEach(function(callback) {\n",
       "        if (callback != null)\n",
       "          callback();\n",
       "      });\n",
       "    } finally {\n",
       "      delete root._bokeh_onload_callbacks\n",
       "    }\n",
       "    console.debug(\"Bokeh: all callbacks have finished\");\n",
       "  }\n",
       "\n",
       "  function load_libs(css_urls, js_urls, callback) {\n",
       "    if (css_urls == null) css_urls = [];\n",
       "    if (js_urls == null) js_urls = [];\n",
       "\n",
       "    root._bokeh_onload_callbacks.push(callback);\n",
       "    if (root._bokeh_is_loading > 0) {\n",
       "      console.debug(\"Bokeh: BokehJS is being loaded, scheduling callback at\", now());\n",
       "      return null;\n",
       "    }\n",
       "    if (js_urls == null || js_urls.length === 0) {\n",
       "      run_callbacks();\n",
       "      return null;\n",
       "    }\n",
       "    console.debug(\"Bokeh: BokehJS not loaded, scheduling load and callback at\", now());\n",
       "    root._bokeh_is_loading = css_urls.length + js_urls.length;\n",
       "\n",
       "    function on_load() {\n",
       "      root._bokeh_is_loading--;\n",
       "      if (root._bokeh_is_loading === 0) {\n",
       "        console.debug(\"Bokeh: all BokehJS libraries/stylesheets loaded\");\n",
       "        run_callbacks()\n",
       "      }\n",
       "    }\n",
       "\n",
       "    function on_error(url) {\n",
       "      console.error(\"failed to load \" + url);\n",
       "    }\n",
       "\n",
       "    for (let i = 0; i < css_urls.length; i++) {\n",
       "      const url = css_urls[i];\n",
       "      const element = document.createElement(\"link\");\n",
       "      element.onload = on_load;\n",
       "      element.onerror = on_error.bind(null, url);\n",
       "      element.rel = \"stylesheet\";\n",
       "      element.type = \"text/css\";\n",
       "      element.href = url;\n",
       "      console.debug(\"Bokeh: injecting link tag for BokehJS stylesheet: \", url);\n",
       "      document.body.appendChild(element);\n",
       "    }\n",
       "\n",
       "    for (let i = 0; i < js_urls.length; i++) {\n",
       "      const url = js_urls[i];\n",
       "      const element = document.createElement('script');\n",
       "      element.onload = on_load;\n",
       "      element.onerror = on_error.bind(null, url);\n",
       "      element.async = false;\n",
       "      element.src = url;\n",
       "      console.debug(\"Bokeh: injecting script tag for BokehJS library: \", url);\n",
       "      document.head.appendChild(element);\n",
       "    }\n",
       "  };\n",
       "\n",
       "  function inject_raw_css(css) {\n",
       "    const element = document.createElement(\"style\");\n",
       "    element.appendChild(document.createTextNode(css));\n",
       "    document.body.appendChild(element);\n",
       "  }\n",
       "\n",
       "  const js_urls = [\"https://cdn.bokeh.org/bokeh/release/bokeh-2.4.3.min.js\", \"https://cdn.bokeh.org/bokeh/release/bokeh-gl-2.4.3.min.js\", \"https://cdn.bokeh.org/bokeh/release/bokeh-widgets-2.4.3.min.js\", \"https://cdn.bokeh.org/bokeh/release/bokeh-tables-2.4.3.min.js\", \"https://cdn.bokeh.org/bokeh/release/bokeh-mathjax-2.4.3.min.js\"];\n",
       "  const css_urls = [];\n",
       "\n",
       "  const inline_js = [    function(Bokeh) {\n",
       "      Bokeh.set_log_level(\"info\");\n",
       "    },\n",
       "function(Bokeh) {\n",
       "    }\n",
       "  ];\n",
       "\n",
       "  function run_inline_js() {\n",
       "    if (root.Bokeh !== undefined || force === true) {\n",
       "          for (let i = 0; i < inline_js.length; i++) {\n",
       "      inline_js[i].call(root, root.Bokeh);\n",
       "    }\n",
       "} else if (Date.now() < root._bokeh_timeout) {\n",
       "      setTimeout(run_inline_js, 100);\n",
       "    } else if (!root._bokeh_failed_load) {\n",
       "      console.log(\"Bokeh: BokehJS failed to load within specified timeout.\");\n",
       "      root._bokeh_failed_load = true;\n",
       "    } else if (force !== true) {\n",
       "      const cell = $(document.getElementById(null)).parents('.cell').data().cell;\n",
       "      cell.output_area.append_execute_result(NB_LOAD_WARNING)\n",
       "    }\n",
       "  }\n",
       "\n",
       "  if (root._bokeh_is_loading === 0) {\n",
       "    console.debug(\"Bokeh: BokehJS loaded, going straight to plotting\");\n",
       "    run_inline_js();\n",
       "  } else {\n",
       "    load_libs(css_urls, js_urls, function() {\n",
       "      console.debug(\"Bokeh: BokehJS plotting callback run at\", now());\n",
       "      run_inline_js();\n",
       "    });\n",
       "  }\n",
       "}(window));"
      ],
      "application/vnd.bokehjs_load.v0+json": "(function(root) {\n  function now() {\n    return new Date();\n  }\n\n  const force = true;\n\n  if (typeof root._bokeh_onload_callbacks === \"undefined\" || force === true) {\n    root._bokeh_onload_callbacks = [];\n    root._bokeh_is_loading = undefined;\n  }\n\n\n  if (typeof (root._bokeh_timeout) === \"undefined\" || force === true) {\n    root._bokeh_timeout = Date.now() + 5000;\n    root._bokeh_failed_load = false;\n  }\n\n  const NB_LOAD_WARNING = {'data': {'text/html':\n     \"<div style='background-color: #fdd'>\\n\"+\n     \"<p>\\n\"+\n     \"BokehJS does not appear to have successfully loaded. If loading BokehJS from CDN, this \\n\"+\n     \"may be due to a slow or bad network connection. Possible fixes:\\n\"+\n     \"</p>\\n\"+\n     \"<ul>\\n\"+\n     \"<li>re-rerun `output_notebook()` to attempt to load from CDN again, or</li>\\n\"+\n     \"<li>use INLINE resources instead, as so:</li>\\n\"+\n     \"</ul>\\n\"+\n     \"<code>\\n\"+\n     \"from bokeh.resources import INLINE\\n\"+\n     \"output_notebook(resources=INLINE)\\n\"+\n     \"</code>\\n\"+\n     \"</div>\"}};\n\n  function display_loaded() {\n    const el = document.getElementById(null);\n    if (el != null) {\n      el.textContent = \"BokehJS is loading...\";\n    }\n    if (root.Bokeh !== undefined) {\n      if (el != null) {\n        el.textContent = \"BokehJS \" + root.Bokeh.version + \" successfully loaded.\";\n      }\n    } else if (Date.now() < root._bokeh_timeout) {\n      setTimeout(display_loaded, 100)\n    }\n  }\n\n  function run_callbacks() {\n    try {\n      root._bokeh_onload_callbacks.forEach(function(callback) {\n        if (callback != null)\n          callback();\n      });\n    } finally {\n      delete root._bokeh_onload_callbacks\n    }\n    console.debug(\"Bokeh: all callbacks have finished\");\n  }\n\n  function load_libs(css_urls, js_urls, callback) {\n    if (css_urls == null) css_urls = [];\n    if (js_urls == null) js_urls = [];\n\n    root._bokeh_onload_callbacks.push(callback);\n    if (root._bokeh_is_loading > 0) {\n      console.debug(\"Bokeh: BokehJS is being loaded, scheduling callback at\", now());\n      return null;\n    }\n    if (js_urls == null || js_urls.length === 0) {\n      run_callbacks();\n      return null;\n    }\n    console.debug(\"Bokeh: BokehJS not loaded, scheduling load and callback at\", now());\n    root._bokeh_is_loading = css_urls.length + js_urls.length;\n\n    function on_load() {\n      root._bokeh_is_loading--;\n      if (root._bokeh_is_loading === 0) {\n        console.debug(\"Bokeh: all BokehJS libraries/stylesheets loaded\");\n        run_callbacks()\n      }\n    }\n\n    function on_error(url) {\n      console.error(\"failed to load \" + url);\n    }\n\n    for (let i = 0; i < css_urls.length; i++) {\n      const url = css_urls[i];\n      const element = document.createElement(\"link\");\n      element.onload = on_load;\n      element.onerror = on_error.bind(null, url);\n      element.rel = \"stylesheet\";\n      element.type = \"text/css\";\n      element.href = url;\n      console.debug(\"Bokeh: injecting link tag for BokehJS stylesheet: \", url);\n      document.body.appendChild(element);\n    }\n\n    for (let i = 0; i < js_urls.length; i++) {\n      const url = js_urls[i];\n      const element = document.createElement('script');\n      element.onload = on_load;\n      element.onerror = on_error.bind(null, url);\n      element.async = false;\n      element.src = url;\n      console.debug(\"Bokeh: injecting script tag for BokehJS library: \", url);\n      document.head.appendChild(element);\n    }\n  };\n\n  function inject_raw_css(css) {\n    const element = document.createElement(\"style\");\n    element.appendChild(document.createTextNode(css));\n    document.body.appendChild(element);\n  }\n\n  const js_urls = [\"https://cdn.bokeh.org/bokeh/release/bokeh-2.4.3.min.js\", \"https://cdn.bokeh.org/bokeh/release/bokeh-gl-2.4.3.min.js\", \"https://cdn.bokeh.org/bokeh/release/bokeh-widgets-2.4.3.min.js\", \"https://cdn.bokeh.org/bokeh/release/bokeh-tables-2.4.3.min.js\", \"https://cdn.bokeh.org/bokeh/release/bokeh-mathjax-2.4.3.min.js\"];\n  const css_urls = [];\n\n  const inline_js = [    function(Bokeh) {\n      Bokeh.set_log_level(\"info\");\n    },\nfunction(Bokeh) {\n    }\n  ];\n\n  function run_inline_js() {\n    if (root.Bokeh !== undefined || force === true) {\n          for (let i = 0; i < inline_js.length; i++) {\n      inline_js[i].call(root, root.Bokeh);\n    }\n} else if (Date.now() < root._bokeh_timeout) {\n      setTimeout(run_inline_js, 100);\n    } else if (!root._bokeh_failed_load) {\n      console.log(\"Bokeh: BokehJS failed to load within specified timeout.\");\n      root._bokeh_failed_load = true;\n    } else if (force !== true) {\n      const cell = $(document.getElementById(null)).parents('.cell').data().cell;\n      cell.output_area.append_execute_result(NB_LOAD_WARNING)\n    }\n  }\n\n  if (root._bokeh_is_loading === 0) {\n    console.debug(\"Bokeh: BokehJS loaded, going straight to plotting\");\n    run_inline_js();\n  } else {\n    load_libs(css_urls, js_urls, function() {\n      console.debug(\"Bokeh: BokehJS plotting callback run at\", now());\n      run_inline_js();\n    });\n  }\n}(window));"
     },
     "metadata": {},
     "output_type": "display_data"
    },
    {
     "data": {
      "application/javascript": [
       "(function(root) {\n",
       "  function now() {\n",
       "    return new Date();\n",
       "  }\n",
       "\n",
       "  const force = true;\n",
       "\n",
       "  if (typeof root._bokeh_onload_callbacks === \"undefined\" || force === true) {\n",
       "    root._bokeh_onload_callbacks = [];\n",
       "    root._bokeh_is_loading = undefined;\n",
       "  }\n",
       "\n",
       "const JS_MIME_TYPE = 'application/javascript';\n",
       "  const HTML_MIME_TYPE = 'text/html';\n",
       "  const EXEC_MIME_TYPE = 'application/vnd.bokehjs_exec.v0+json';\n",
       "  const CLASS_NAME = 'output_bokeh rendered_html';\n",
       "\n",
       "  /**\n",
       "   * Render data to the DOM node\n",
       "   */\n",
       "  function render(props, node) {\n",
       "    const script = document.createElement(\"script\");\n",
       "    node.appendChild(script);\n",
       "  }\n",
       "\n",
       "  /**\n",
       "   * Handle when an output is cleared or removed\n",
       "   */\n",
       "  function handleClearOutput(event, handle) {\n",
       "    const cell = handle.cell;\n",
       "\n",
       "    const id = cell.output_area._bokeh_element_id;\n",
       "    const server_id = cell.output_area._bokeh_server_id;\n",
       "    // Clean up Bokeh references\n",
       "    if (id != null && id in Bokeh.index) {\n",
       "      Bokeh.index[id].model.document.clear();\n",
       "      delete Bokeh.index[id];\n",
       "    }\n",
       "\n",
       "    if (server_id !== undefined) {\n",
       "      // Clean up Bokeh references\n",
       "      const cmd_clean = \"from bokeh.io.state import curstate; print(curstate().uuid_to_server['\" + server_id + \"'].get_sessions()[0].document.roots[0]._id)\";\n",
       "      cell.notebook.kernel.execute(cmd_clean, {\n",
       "        iopub: {\n",
       "          output: function(msg) {\n",
       "            const id = msg.content.text.trim();\n",
       "            if (id in Bokeh.index) {\n",
       "              Bokeh.index[id].model.document.clear();\n",
       "              delete Bokeh.index[id];\n",
       "            }\n",
       "          }\n",
       "        }\n",
       "      });\n",
       "      // Destroy server and session\n",
       "      const cmd_destroy = \"import bokeh.io.notebook as ion; ion.destroy_server('\" + server_id + \"')\";\n",
       "      cell.notebook.kernel.execute(cmd_destroy);\n",
       "    }\n",
       "  }\n",
       "\n",
       "  /**\n",
       "   * Handle when a new output is added\n",
       "   */\n",
       "  function handleAddOutput(event, handle) {\n",
       "    const output_area = handle.output_area;\n",
       "    const output = handle.output;\n",
       "\n",
       "    // limit handleAddOutput to display_data with EXEC_MIME_TYPE content only\n",
       "    if ((output.output_type != \"display_data\") || (!Object.prototype.hasOwnProperty.call(output.data, EXEC_MIME_TYPE))) {\n",
       "      return\n",
       "    }\n",
       "\n",
       "    const toinsert = output_area.element.find(\".\" + CLASS_NAME.split(' ')[0]);\n",
       "\n",
       "    if (output.metadata[EXEC_MIME_TYPE][\"id\"] !== undefined) {\n",
       "      toinsert[toinsert.length - 1].firstChild.textContent = output.data[JS_MIME_TYPE];\n",
       "      // store reference to embed id on output_area\n",
       "      output_area._bokeh_element_id = output.metadata[EXEC_MIME_TYPE][\"id\"];\n",
       "    }\n",
       "    if (output.metadata[EXEC_MIME_TYPE][\"server_id\"] !== undefined) {\n",
       "      const bk_div = document.createElement(\"div\");\n",
       "      bk_div.innerHTML = output.data[HTML_MIME_TYPE];\n",
       "      const script_attrs = bk_div.children[0].attributes;\n",
       "      for (let i = 0; i < script_attrs.length; i++) {\n",
       "        toinsert[toinsert.length - 1].firstChild.setAttribute(script_attrs[i].name, script_attrs[i].value);\n",
       "        toinsert[toinsert.length - 1].firstChild.textContent = bk_div.children[0].textContent\n",
       "      }\n",
       "      // store reference to server id on output_area\n",
       "      output_area._bokeh_server_id = output.metadata[EXEC_MIME_TYPE][\"server_id\"];\n",
       "    }\n",
       "  }\n",
       "\n",
       "  function register_renderer(events, OutputArea) {\n",
       "\n",
       "    function append_mime(data, metadata, element) {\n",
       "      // create a DOM node to render to\n",
       "      const toinsert = this.create_output_subarea(\n",
       "        metadata,\n",
       "        CLASS_NAME,\n",
       "        EXEC_MIME_TYPE\n",
       "      );\n",
       "      this.keyboard_manager.register_events(toinsert);\n",
       "      // Render to node\n",
       "      const props = {data: data, metadata: metadata[EXEC_MIME_TYPE]};\n",
       "      render(props, toinsert[toinsert.length - 1]);\n",
       "      element.append(toinsert);\n",
       "      return toinsert\n",
       "    }\n",
       "\n",
       "    /* Handle when an output is cleared or removed */\n",
       "    events.on('clear_output.CodeCell', handleClearOutput);\n",
       "    events.on('delete.Cell', handleClearOutput);\n",
       "\n",
       "    /* Handle when a new output is added */\n",
       "    events.on('output_added.OutputArea', handleAddOutput);\n",
       "\n",
       "    /**\n",
       "     * Register the mime type and append_mime function with output_area\n",
       "     */\n",
       "    OutputArea.prototype.register_mime_type(EXEC_MIME_TYPE, append_mime, {\n",
       "      /* Is output safe? */\n",
       "      safe: true,\n",
       "      /* Index of renderer in `output_area.display_order` */\n",
       "      index: 0\n",
       "    });\n",
       "  }\n",
       "\n",
       "  // register the mime type if in Jupyter Notebook environment and previously unregistered\n",
       "  if (root.Jupyter !== undefined) {\n",
       "    const events = require('base/js/events');\n",
       "    const OutputArea = require('notebook/js/outputarea').OutputArea;\n",
       "\n",
       "    if (OutputArea.prototype.mime_types().indexOf(EXEC_MIME_TYPE) == -1) {\n",
       "      register_renderer(events, OutputArea);\n",
       "    }\n",
       "  }\n",
       "  if (typeof (root._bokeh_timeout) === \"undefined\" || force === true) {\n",
       "    root._bokeh_timeout = Date.now() + 5000;\n",
       "    root._bokeh_failed_load = false;\n",
       "  }\n",
       "\n",
       "  const NB_LOAD_WARNING = {'data': {'text/html':\n",
       "     \"<div style='background-color: #fdd'>\\n\"+\n",
       "     \"<p>\\n\"+\n",
       "     \"BokehJS does not appear to have successfully loaded. If loading BokehJS from CDN, this \\n\"+\n",
       "     \"may be due to a slow or bad network connection. Possible fixes:\\n\"+\n",
       "     \"</p>\\n\"+\n",
       "     \"<ul>\\n\"+\n",
       "     \"<li>re-rerun `output_notebook()` to attempt to load from CDN again, or</li>\\n\"+\n",
       "     \"<li>use INLINE resources instead, as so:</li>\\n\"+\n",
       "     \"</ul>\\n\"+\n",
       "     \"<code>\\n\"+\n",
       "     \"from bokeh.resources import INLINE\\n\"+\n",
       "     \"output_notebook(resources=INLINE)\\n\"+\n",
       "     \"</code>\\n\"+\n",
       "     \"</div>\"}};\n",
       "\n",
       "  function display_loaded() {\n",
       "    const el = document.getElementById(null);\n",
       "    if (el != null) {\n",
       "      el.textContent = \"BokehJS is loading...\";\n",
       "    }\n",
       "    if (root.Bokeh !== undefined) {\n",
       "      if (el != null) {\n",
       "        el.textContent = \"BokehJS \" + root.Bokeh.version + \" successfully loaded.\";\n",
       "      }\n",
       "    } else if (Date.now() < root._bokeh_timeout) {\n",
       "      setTimeout(display_loaded, 100)\n",
       "    }\n",
       "  }\n",
       "\n",
       "  function run_callbacks() {\n",
       "    try {\n",
       "      root._bokeh_onload_callbacks.forEach(function(callback) {\n",
       "        if (callback != null)\n",
       "          callback();\n",
       "      });\n",
       "    } finally {\n",
       "      delete root._bokeh_onload_callbacks\n",
       "    }\n",
       "    console.debug(\"Bokeh: all callbacks have finished\");\n",
       "  }\n",
       "\n",
       "  function load_libs(css_urls, js_urls, callback) {\n",
       "    if (css_urls == null) css_urls = [];\n",
       "    if (js_urls == null) js_urls = [];\n",
       "\n",
       "    root._bokeh_onload_callbacks.push(callback);\n",
       "    if (root._bokeh_is_loading > 0) {\n",
       "      console.debug(\"Bokeh: BokehJS is being loaded, scheduling callback at\", now());\n",
       "      return null;\n",
       "    }\n",
       "    if (js_urls == null || js_urls.length === 0) {\n",
       "      run_callbacks();\n",
       "      return null;\n",
       "    }\n",
       "    console.debug(\"Bokeh: BokehJS not loaded, scheduling load and callback at\", now());\n",
       "    root._bokeh_is_loading = css_urls.length + js_urls.length;\n",
       "\n",
       "    function on_load() {\n",
       "      root._bokeh_is_loading--;\n",
       "      if (root._bokeh_is_loading === 0) {\n",
       "        console.debug(\"Bokeh: all BokehJS libraries/stylesheets loaded\");\n",
       "        run_callbacks()\n",
       "      }\n",
       "    }\n",
       "\n",
       "    function on_error(url) {\n",
       "      console.error(\"failed to load \" + url);\n",
       "    }\n",
       "\n",
       "    for (let i = 0; i < css_urls.length; i++) {\n",
       "      const url = css_urls[i];\n",
       "      const element = document.createElement(\"link\");\n",
       "      element.onload = on_load;\n",
       "      element.onerror = on_error.bind(null, url);\n",
       "      element.rel = \"stylesheet\";\n",
       "      element.type = \"text/css\";\n",
       "      element.href = url;\n",
       "      console.debug(\"Bokeh: injecting link tag for BokehJS stylesheet: \", url);\n",
       "      document.body.appendChild(element);\n",
       "    }\n",
       "\n",
       "    for (let i = 0; i < js_urls.length; i++) {\n",
       "      const url = js_urls[i];\n",
       "      const element = document.createElement('script');\n",
       "      element.onload = on_load;\n",
       "      element.onerror = on_error.bind(null, url);\n",
       "      element.async = false;\n",
       "      element.src = url;\n",
       "      console.debug(\"Bokeh: injecting script tag for BokehJS library: \", url);\n",
       "      document.head.appendChild(element);\n",
       "    }\n",
       "  };\n",
       "\n",
       "  function inject_raw_css(css) {\n",
       "    const element = document.createElement(\"style\");\n",
       "    element.appendChild(document.createTextNode(css));\n",
       "    document.body.appendChild(element);\n",
       "  }\n",
       "\n",
       "  const js_urls = [\"https://cdn.bokeh.org/bokeh/release/bokeh-2.4.3.min.js\", \"https://cdn.bokeh.org/bokeh/release/bokeh-gl-2.4.3.min.js\", \"https://cdn.bokeh.org/bokeh/release/bokeh-widgets-2.4.3.min.js\", \"https://cdn.bokeh.org/bokeh/release/bokeh-tables-2.4.3.min.js\", \"https://cdn.bokeh.org/bokeh/release/bokeh-mathjax-2.4.3.min.js\"];\n",
       "  const css_urls = [];\n",
       "\n",
       "  const inline_js = [    function(Bokeh) {\n",
       "      Bokeh.set_log_level(\"info\");\n",
       "    },\n",
       "function(Bokeh) {\n",
       "    }\n",
       "  ];\n",
       "\n",
       "  function run_inline_js() {\n",
       "    if (root.Bokeh !== undefined || force === true) {\n",
       "          for (let i = 0; i < inline_js.length; i++) {\n",
       "      inline_js[i].call(root, root.Bokeh);\n",
       "    }\n",
       "} else if (Date.now() < root._bokeh_timeout) {\n",
       "      setTimeout(run_inline_js, 100);\n",
       "    } else if (!root._bokeh_failed_load) {\n",
       "      console.log(\"Bokeh: BokehJS failed to load within specified timeout.\");\n",
       "      root._bokeh_failed_load = true;\n",
       "    } else if (force !== true) {\n",
       "      const cell = $(document.getElementById(null)).parents('.cell').data().cell;\n",
       "      cell.output_area.append_execute_result(NB_LOAD_WARNING)\n",
       "    }\n",
       "  }\n",
       "\n",
       "  if (root._bokeh_is_loading === 0) {\n",
       "    console.debug(\"Bokeh: BokehJS loaded, going straight to plotting\");\n",
       "    run_inline_js();\n",
       "  } else {\n",
       "    load_libs(css_urls, js_urls, function() {\n",
       "      console.debug(\"Bokeh: BokehJS plotting callback run at\", now());\n",
       "      run_inline_js();\n",
       "    });\n",
       "  }\n",
       "}(window));"
      ],
      "application/vnd.bokehjs_load.v0+json": "(function(root) {\n  function now() {\n    return new Date();\n  }\n\n  const force = true;\n\n  if (typeof root._bokeh_onload_callbacks === \"undefined\" || force === true) {\n    root._bokeh_onload_callbacks = [];\n    root._bokeh_is_loading = undefined;\n  }\n\n\n  if (typeof (root._bokeh_timeout) === \"undefined\" || force === true) {\n    root._bokeh_timeout = Date.now() + 5000;\n    root._bokeh_failed_load = false;\n  }\n\n  const NB_LOAD_WARNING = {'data': {'text/html':\n     \"<div style='background-color: #fdd'>\\n\"+\n     \"<p>\\n\"+\n     \"BokehJS does not appear to have successfully loaded. If loading BokehJS from CDN, this \\n\"+\n     \"may be due to a slow or bad network connection. Possible fixes:\\n\"+\n     \"</p>\\n\"+\n     \"<ul>\\n\"+\n     \"<li>re-rerun `output_notebook()` to attempt to load from CDN again, or</li>\\n\"+\n     \"<li>use INLINE resources instead, as so:</li>\\n\"+\n     \"</ul>\\n\"+\n     \"<code>\\n\"+\n     \"from bokeh.resources import INLINE\\n\"+\n     \"output_notebook(resources=INLINE)\\n\"+\n     \"</code>\\n\"+\n     \"</div>\"}};\n\n  function display_loaded() {\n    const el = document.getElementById(null);\n    if (el != null) {\n      el.textContent = \"BokehJS is loading...\";\n    }\n    if (root.Bokeh !== undefined) {\n      if (el != null) {\n        el.textContent = \"BokehJS \" + root.Bokeh.version + \" successfully loaded.\";\n      }\n    } else if (Date.now() < root._bokeh_timeout) {\n      setTimeout(display_loaded, 100)\n    }\n  }\n\n  function run_callbacks() {\n    try {\n      root._bokeh_onload_callbacks.forEach(function(callback) {\n        if (callback != null)\n          callback();\n      });\n    } finally {\n      delete root._bokeh_onload_callbacks\n    }\n    console.debug(\"Bokeh: all callbacks have finished\");\n  }\n\n  function load_libs(css_urls, js_urls, callback) {\n    if (css_urls == null) css_urls = [];\n    if (js_urls == null) js_urls = [];\n\n    root._bokeh_onload_callbacks.push(callback);\n    if (root._bokeh_is_loading > 0) {\n      console.debug(\"Bokeh: BokehJS is being loaded, scheduling callback at\", now());\n      return null;\n    }\n    if (js_urls == null || js_urls.length === 0) {\n      run_callbacks();\n      return null;\n    }\n    console.debug(\"Bokeh: BokehJS not loaded, scheduling load and callback at\", now());\n    root._bokeh_is_loading = css_urls.length + js_urls.length;\n\n    function on_load() {\n      root._bokeh_is_loading--;\n      if (root._bokeh_is_loading === 0) {\n        console.debug(\"Bokeh: all BokehJS libraries/stylesheets loaded\");\n        run_callbacks()\n      }\n    }\n\n    function on_error(url) {\n      console.error(\"failed to load \" + url);\n    }\n\n    for (let i = 0; i < css_urls.length; i++) {\n      const url = css_urls[i];\n      const element = document.createElement(\"link\");\n      element.onload = on_load;\n      element.onerror = on_error.bind(null, url);\n      element.rel = \"stylesheet\";\n      element.type = \"text/css\";\n      element.href = url;\n      console.debug(\"Bokeh: injecting link tag for BokehJS stylesheet: \", url);\n      document.body.appendChild(element);\n    }\n\n    for (let i = 0; i < js_urls.length; i++) {\n      const url = js_urls[i];\n      const element = document.createElement('script');\n      element.onload = on_load;\n      element.onerror = on_error.bind(null, url);\n      element.async = false;\n      element.src = url;\n      console.debug(\"Bokeh: injecting script tag for BokehJS library: \", url);\n      document.head.appendChild(element);\n    }\n  };\n\n  function inject_raw_css(css) {\n    const element = document.createElement(\"style\");\n    element.appendChild(document.createTextNode(css));\n    document.body.appendChild(element);\n  }\n\n  const js_urls = [\"https://cdn.bokeh.org/bokeh/release/bokeh-2.4.3.min.js\", \"https://cdn.bokeh.org/bokeh/release/bokeh-gl-2.4.3.min.js\", \"https://cdn.bokeh.org/bokeh/release/bokeh-widgets-2.4.3.min.js\", \"https://cdn.bokeh.org/bokeh/release/bokeh-tables-2.4.3.min.js\", \"https://cdn.bokeh.org/bokeh/release/bokeh-mathjax-2.4.3.min.js\"];\n  const css_urls = [];\n\n  const inline_js = [    function(Bokeh) {\n      Bokeh.set_log_level(\"info\");\n    },\nfunction(Bokeh) {\n    }\n  ];\n\n  function run_inline_js() {\n    if (root.Bokeh !== undefined || force === true) {\n          for (let i = 0; i < inline_js.length; i++) {\n      inline_js[i].call(root, root.Bokeh);\n    }\n} else if (Date.now() < root._bokeh_timeout) {\n      setTimeout(run_inline_js, 100);\n    } else if (!root._bokeh_failed_load) {\n      console.log(\"Bokeh: BokehJS failed to load within specified timeout.\");\n      root._bokeh_failed_load = true;\n    } else if (force !== true) {\n      const cell = $(document.getElementById(null)).parents('.cell').data().cell;\n      cell.output_area.append_execute_result(NB_LOAD_WARNING)\n    }\n  }\n\n  if (root._bokeh_is_loading === 0) {\n    console.debug(\"Bokeh: BokehJS loaded, going straight to plotting\");\n    run_inline_js();\n  } else {\n    load_libs(css_urls, js_urls, function() {\n      console.debug(\"Bokeh: BokehJS plotting callback run at\", now());\n      run_inline_js();\n    });\n  }\n}(window));"
     },
     "metadata": {},
     "output_type": "display_data"
    },
    {
     "name": "stdout",
     "output_type": "stream",
     "text": [
      "Training jobname: pytorch-training-2023-04-26-21-15-10-402\n",
      "Region: us-east-1\n"
     ]
    }
   ],
   "source": [
    "from smdebug.profiler.analysis.notebook_utils.training_job import TrainingJob\n",
    "\n",
    "training_job_name = estimator.latest_training_job.name\n",
    "print(f\"Training jobname: {training_job_name}\")\n",
    "print(f\"Region: {region}\")"
   ]
  },
  {
   "cell_type": "code",
   "execution_count": 21,
   "metadata": {
    "tags": []
   },
   "outputs": [
    {
     "name": "stdout",
     "output_type": "stream",
     "text": [
      "ProfilerConfig:{'S3OutputPath': 's3://sagemaker-us-east-1-722116367570/', 'ProfilingIntervalInMilliseconds': 500, 'ProfilingParameters': {'DataloaderProfilingConfig': '{\"StartStep\": 0, \"NumSteps\": 10, \"MetricsRegex\": \".*\", }', 'DetailedProfilingConfig': '{\"StartStep\": 0, \"NumSteps\": 10, }', 'FileOpenFailThreshold': '50', 'HorovodProfilingConfig': '{\"StartStep\": 0, \"NumSteps\": 10, }', 'LocalPath': '/opt/ml/output/profiler', 'PythonProfilingConfig': '{\"StartStep\": 0, \"NumSteps\": 10, \"ProfilerName\": \"cprofile\", \"cProfileTimer\": \"total_time\", }', 'RotateFileCloseIntervalInSeconds': '60', 'RotateMaxFileSizeInBytes': '10485760', 'SMDataParallelProfilingConfig': '{\"StartStep\": 0, \"NumSteps\": 10, }'}, 'DisableProfiler': False}\n",
      "s3 path:s3://sagemaker-us-east-1-722116367570/pytorch-training-2023-04-26-21-15-10-402/profiler-output\n",
      "\n",
      "\n",
      "Profiler data from system is available\n"
     ]
    }
   ],
   "source": [
    "tj = TrainingJob(training_job_name, region)\n",
    "tj.wait_for_sys_profiling_data_to_be_available()"
   ]
  },
  {
   "cell_type": "code",
   "execution_count": 23,
   "metadata": {
    "tags": []
   },
   "outputs": [
    {
     "data": {
      "application/javascript": [
       "(function(root) {\n",
       "  function now() {\n",
       "    return new Date();\n",
       "  }\n",
       "\n",
       "  const force = true;\n",
       "\n",
       "  if (typeof root._bokeh_onload_callbacks === \"undefined\" || force === true) {\n",
       "    root._bokeh_onload_callbacks = [];\n",
       "    root._bokeh_is_loading = undefined;\n",
       "  }\n",
       "\n",
       "const JS_MIME_TYPE = 'application/javascript';\n",
       "  const HTML_MIME_TYPE = 'text/html';\n",
       "  const EXEC_MIME_TYPE = 'application/vnd.bokehjs_exec.v0+json';\n",
       "  const CLASS_NAME = 'output_bokeh rendered_html';\n",
       "\n",
       "  /**\n",
       "   * Render data to the DOM node\n",
       "   */\n",
       "  function render(props, node) {\n",
       "    const script = document.createElement(\"script\");\n",
       "    node.appendChild(script);\n",
       "  }\n",
       "\n",
       "  /**\n",
       "   * Handle when an output is cleared or removed\n",
       "   */\n",
       "  function handleClearOutput(event, handle) {\n",
       "    const cell = handle.cell;\n",
       "\n",
       "    const id = cell.output_area._bokeh_element_id;\n",
       "    const server_id = cell.output_area._bokeh_server_id;\n",
       "    // Clean up Bokeh references\n",
       "    if (id != null && id in Bokeh.index) {\n",
       "      Bokeh.index[id].model.document.clear();\n",
       "      delete Bokeh.index[id];\n",
       "    }\n",
       "\n",
       "    if (server_id !== undefined) {\n",
       "      // Clean up Bokeh references\n",
       "      const cmd_clean = \"from bokeh.io.state import curstate; print(curstate().uuid_to_server['\" + server_id + \"'].get_sessions()[0].document.roots[0]._id)\";\n",
       "      cell.notebook.kernel.execute(cmd_clean, {\n",
       "        iopub: {\n",
       "          output: function(msg) {\n",
       "            const id = msg.content.text.trim();\n",
       "            if (id in Bokeh.index) {\n",
       "              Bokeh.index[id].model.document.clear();\n",
       "              delete Bokeh.index[id];\n",
       "            }\n",
       "          }\n",
       "        }\n",
       "      });\n",
       "      // Destroy server and session\n",
       "      const cmd_destroy = \"import bokeh.io.notebook as ion; ion.destroy_server('\" + server_id + \"')\";\n",
       "      cell.notebook.kernel.execute(cmd_destroy);\n",
       "    }\n",
       "  }\n",
       "\n",
       "  /**\n",
       "   * Handle when a new output is added\n",
       "   */\n",
       "  function handleAddOutput(event, handle) {\n",
       "    const output_area = handle.output_area;\n",
       "    const output = handle.output;\n",
       "\n",
       "    // limit handleAddOutput to display_data with EXEC_MIME_TYPE content only\n",
       "    if ((output.output_type != \"display_data\") || (!Object.prototype.hasOwnProperty.call(output.data, EXEC_MIME_TYPE))) {\n",
       "      return\n",
       "    }\n",
       "\n",
       "    const toinsert = output_area.element.find(\".\" + CLASS_NAME.split(' ')[0]);\n",
       "\n",
       "    if (output.metadata[EXEC_MIME_TYPE][\"id\"] !== undefined) {\n",
       "      toinsert[toinsert.length - 1].firstChild.textContent = output.data[JS_MIME_TYPE];\n",
       "      // store reference to embed id on output_area\n",
       "      output_area._bokeh_element_id = output.metadata[EXEC_MIME_TYPE][\"id\"];\n",
       "    }\n",
       "    if (output.metadata[EXEC_MIME_TYPE][\"server_id\"] !== undefined) {\n",
       "      const bk_div = document.createElement(\"div\");\n",
       "      bk_div.innerHTML = output.data[HTML_MIME_TYPE];\n",
       "      const script_attrs = bk_div.children[0].attributes;\n",
       "      for (let i = 0; i < script_attrs.length; i++) {\n",
       "        toinsert[toinsert.length - 1].firstChild.setAttribute(script_attrs[i].name, script_attrs[i].value);\n",
       "        toinsert[toinsert.length - 1].firstChild.textContent = bk_div.children[0].textContent\n",
       "      }\n",
       "      // store reference to server id on output_area\n",
       "      output_area._bokeh_server_id = output.metadata[EXEC_MIME_TYPE][\"server_id\"];\n",
       "    }\n",
       "  }\n",
       "\n",
       "  function register_renderer(events, OutputArea) {\n",
       "\n",
       "    function append_mime(data, metadata, element) {\n",
       "      // create a DOM node to render to\n",
       "      const toinsert = this.create_output_subarea(\n",
       "        metadata,\n",
       "        CLASS_NAME,\n",
       "        EXEC_MIME_TYPE\n",
       "      );\n",
       "      this.keyboard_manager.register_events(toinsert);\n",
       "      // Render to node\n",
       "      const props = {data: data, metadata: metadata[EXEC_MIME_TYPE]};\n",
       "      render(props, toinsert[toinsert.length - 1]);\n",
       "      element.append(toinsert);\n",
       "      return toinsert\n",
       "    }\n",
       "\n",
       "    /* Handle when an output is cleared or removed */\n",
       "    events.on('clear_output.CodeCell', handleClearOutput);\n",
       "    events.on('delete.Cell', handleClearOutput);\n",
       "\n",
       "    /* Handle when a new output is added */\n",
       "    events.on('output_added.OutputArea', handleAddOutput);\n",
       "\n",
       "    /**\n",
       "     * Register the mime type and append_mime function with output_area\n",
       "     */\n",
       "    OutputArea.prototype.register_mime_type(EXEC_MIME_TYPE, append_mime, {\n",
       "      /* Is output safe? */\n",
       "      safe: true,\n",
       "      /* Index of renderer in `output_area.display_order` */\n",
       "      index: 0\n",
       "    });\n",
       "  }\n",
       "\n",
       "  // register the mime type if in Jupyter Notebook environment and previously unregistered\n",
       "  if (root.Jupyter !== undefined) {\n",
       "    const events = require('base/js/events');\n",
       "    const OutputArea = require('notebook/js/outputarea').OutputArea;\n",
       "\n",
       "    if (OutputArea.prototype.mime_types().indexOf(EXEC_MIME_TYPE) == -1) {\n",
       "      register_renderer(events, OutputArea);\n",
       "    }\n",
       "  }\n",
       "  if (typeof (root._bokeh_timeout) === \"undefined\" || force === true) {\n",
       "    root._bokeh_timeout = Date.now() + 5000;\n",
       "    root._bokeh_failed_load = false;\n",
       "  }\n",
       "\n",
       "  const NB_LOAD_WARNING = {'data': {'text/html':\n",
       "     \"<div style='background-color: #fdd'>\\n\"+\n",
       "     \"<p>\\n\"+\n",
       "     \"BokehJS does not appear to have successfully loaded. If loading BokehJS from CDN, this \\n\"+\n",
       "     \"may be due to a slow or bad network connection. Possible fixes:\\n\"+\n",
       "     \"</p>\\n\"+\n",
       "     \"<ul>\\n\"+\n",
       "     \"<li>re-rerun `output_notebook()` to attempt to load from CDN again, or</li>\\n\"+\n",
       "     \"<li>use INLINE resources instead, as so:</li>\\n\"+\n",
       "     \"</ul>\\n\"+\n",
       "     \"<code>\\n\"+\n",
       "     \"from bokeh.resources import INLINE\\n\"+\n",
       "     \"output_notebook(resources=INLINE)\\n\"+\n",
       "     \"</code>\\n\"+\n",
       "     \"</div>\"}};\n",
       "\n",
       "  function display_loaded() {\n",
       "    const el = document.getElementById(null);\n",
       "    if (el != null) {\n",
       "      el.textContent = \"BokehJS is loading...\";\n",
       "    }\n",
       "    if (root.Bokeh !== undefined) {\n",
       "      if (el != null) {\n",
       "        el.textContent = \"BokehJS \" + root.Bokeh.version + \" successfully loaded.\";\n",
       "      }\n",
       "    } else if (Date.now() < root._bokeh_timeout) {\n",
       "      setTimeout(display_loaded, 100)\n",
       "    }\n",
       "  }\n",
       "\n",
       "  function run_callbacks() {\n",
       "    try {\n",
       "      root._bokeh_onload_callbacks.forEach(function(callback) {\n",
       "        if (callback != null)\n",
       "          callback();\n",
       "      });\n",
       "    } finally {\n",
       "      delete root._bokeh_onload_callbacks\n",
       "    }\n",
       "    console.debug(\"Bokeh: all callbacks have finished\");\n",
       "  }\n",
       "\n",
       "  function load_libs(css_urls, js_urls, callback) {\n",
       "    if (css_urls == null) css_urls = [];\n",
       "    if (js_urls == null) js_urls = [];\n",
       "\n",
       "    root._bokeh_onload_callbacks.push(callback);\n",
       "    if (root._bokeh_is_loading > 0) {\n",
       "      console.debug(\"Bokeh: BokehJS is being loaded, scheduling callback at\", now());\n",
       "      return null;\n",
       "    }\n",
       "    if (js_urls == null || js_urls.length === 0) {\n",
       "      run_callbacks();\n",
       "      return null;\n",
       "    }\n",
       "    console.debug(\"Bokeh: BokehJS not loaded, scheduling load and callback at\", now());\n",
       "    root._bokeh_is_loading = css_urls.length + js_urls.length;\n",
       "\n",
       "    function on_load() {\n",
       "      root._bokeh_is_loading--;\n",
       "      if (root._bokeh_is_loading === 0) {\n",
       "        console.debug(\"Bokeh: all BokehJS libraries/stylesheets loaded\");\n",
       "        run_callbacks()\n",
       "      }\n",
       "    }\n",
       "\n",
       "    function on_error(url) {\n",
       "      console.error(\"failed to load \" + url);\n",
       "    }\n",
       "\n",
       "    for (let i = 0; i < css_urls.length; i++) {\n",
       "      const url = css_urls[i];\n",
       "      const element = document.createElement(\"link\");\n",
       "      element.onload = on_load;\n",
       "      element.onerror = on_error.bind(null, url);\n",
       "      element.rel = \"stylesheet\";\n",
       "      element.type = \"text/css\";\n",
       "      element.href = url;\n",
       "      console.debug(\"Bokeh: injecting link tag for BokehJS stylesheet: \", url);\n",
       "      document.body.appendChild(element);\n",
       "    }\n",
       "\n",
       "    for (let i = 0; i < js_urls.length; i++) {\n",
       "      const url = js_urls[i];\n",
       "      const element = document.createElement('script');\n",
       "      element.onload = on_load;\n",
       "      element.onerror = on_error.bind(null, url);\n",
       "      element.async = false;\n",
       "      element.src = url;\n",
       "      console.debug(\"Bokeh: injecting script tag for BokehJS library: \", url);\n",
       "      document.head.appendChild(element);\n",
       "    }\n",
       "  };\n",
       "\n",
       "  function inject_raw_css(css) {\n",
       "    const element = document.createElement(\"style\");\n",
       "    element.appendChild(document.createTextNode(css));\n",
       "    document.body.appendChild(element);\n",
       "  }\n",
       "\n",
       "  const js_urls = [\"https://cdn.bokeh.org/bokeh/release/bokeh-2.4.3.min.js\", \"https://cdn.bokeh.org/bokeh/release/bokeh-gl-2.4.3.min.js\", \"https://cdn.bokeh.org/bokeh/release/bokeh-widgets-2.4.3.min.js\", \"https://cdn.bokeh.org/bokeh/release/bokeh-tables-2.4.3.min.js\", \"https://cdn.bokeh.org/bokeh/release/bokeh-mathjax-2.4.3.min.js\"];\n",
       "  const css_urls = [];\n",
       "\n",
       "  const inline_js = [    function(Bokeh) {\n",
       "      Bokeh.set_log_level(\"info\");\n",
       "    },\n",
       "function(Bokeh) {\n",
       "    }\n",
       "  ];\n",
       "\n",
       "  function run_inline_js() {\n",
       "    if (root.Bokeh !== undefined || force === true) {\n",
       "          for (let i = 0; i < inline_js.length; i++) {\n",
       "      inline_js[i].call(root, root.Bokeh);\n",
       "    }\n",
       "} else if (Date.now() < root._bokeh_timeout) {\n",
       "      setTimeout(run_inline_js, 100);\n",
       "    } else if (!root._bokeh_failed_load) {\n",
       "      console.log(\"Bokeh: BokehJS failed to load within specified timeout.\");\n",
       "      root._bokeh_failed_load = true;\n",
       "    } else if (force !== true) {\n",
       "      const cell = $(document.getElementById(null)).parents('.cell').data().cell;\n",
       "      cell.output_area.append_execute_result(NB_LOAD_WARNING)\n",
       "    }\n",
       "  }\n",
       "\n",
       "  if (root._bokeh_is_loading === 0) {\n",
       "    console.debug(\"Bokeh: BokehJS loaded, going straight to plotting\");\n",
       "    run_inline_js();\n",
       "  } else {\n",
       "    load_libs(css_urls, js_urls, function() {\n",
       "      console.debug(\"Bokeh: BokehJS plotting callback run at\", now());\n",
       "      run_inline_js();\n",
       "    });\n",
       "  }\n",
       "}(window));"
      ],
      "application/vnd.bokehjs_load.v0+json": "(function(root) {\n  function now() {\n    return new Date();\n  }\n\n  const force = true;\n\n  if (typeof root._bokeh_onload_callbacks === \"undefined\" || force === true) {\n    root._bokeh_onload_callbacks = [];\n    root._bokeh_is_loading = undefined;\n  }\n\n\n  if (typeof (root._bokeh_timeout) === \"undefined\" || force === true) {\n    root._bokeh_timeout = Date.now() + 5000;\n    root._bokeh_failed_load = false;\n  }\n\n  const NB_LOAD_WARNING = {'data': {'text/html':\n     \"<div style='background-color: #fdd'>\\n\"+\n     \"<p>\\n\"+\n     \"BokehJS does not appear to have successfully loaded. If loading BokehJS from CDN, this \\n\"+\n     \"may be due to a slow or bad network connection. Possible fixes:\\n\"+\n     \"</p>\\n\"+\n     \"<ul>\\n\"+\n     \"<li>re-rerun `output_notebook()` to attempt to load from CDN again, or</li>\\n\"+\n     \"<li>use INLINE resources instead, as so:</li>\\n\"+\n     \"</ul>\\n\"+\n     \"<code>\\n\"+\n     \"from bokeh.resources import INLINE\\n\"+\n     \"output_notebook(resources=INLINE)\\n\"+\n     \"</code>\\n\"+\n     \"</div>\"}};\n\n  function display_loaded() {\n    const el = document.getElementById(null);\n    if (el != null) {\n      el.textContent = \"BokehJS is loading...\";\n    }\n    if (root.Bokeh !== undefined) {\n      if (el != null) {\n        el.textContent = \"BokehJS \" + root.Bokeh.version + \" successfully loaded.\";\n      }\n    } else if (Date.now() < root._bokeh_timeout) {\n      setTimeout(display_loaded, 100)\n    }\n  }\n\n  function run_callbacks() {\n    try {\n      root._bokeh_onload_callbacks.forEach(function(callback) {\n        if (callback != null)\n          callback();\n      });\n    } finally {\n      delete root._bokeh_onload_callbacks\n    }\n    console.debug(\"Bokeh: all callbacks have finished\");\n  }\n\n  function load_libs(css_urls, js_urls, callback) {\n    if (css_urls == null) css_urls = [];\n    if (js_urls == null) js_urls = [];\n\n    root._bokeh_onload_callbacks.push(callback);\n    if (root._bokeh_is_loading > 0) {\n      console.debug(\"Bokeh: BokehJS is being loaded, scheduling callback at\", now());\n      return null;\n    }\n    if (js_urls == null || js_urls.length === 0) {\n      run_callbacks();\n      return null;\n    }\n    console.debug(\"Bokeh: BokehJS not loaded, scheduling load and callback at\", now());\n    root._bokeh_is_loading = css_urls.length + js_urls.length;\n\n    function on_load() {\n      root._bokeh_is_loading--;\n      if (root._bokeh_is_loading === 0) {\n        console.debug(\"Bokeh: all BokehJS libraries/stylesheets loaded\");\n        run_callbacks()\n      }\n    }\n\n    function on_error(url) {\n      console.error(\"failed to load \" + url);\n    }\n\n    for (let i = 0; i < css_urls.length; i++) {\n      const url = css_urls[i];\n      const element = document.createElement(\"link\");\n      element.onload = on_load;\n      element.onerror = on_error.bind(null, url);\n      element.rel = \"stylesheet\";\n      element.type = \"text/css\";\n      element.href = url;\n      console.debug(\"Bokeh: injecting link tag for BokehJS stylesheet: \", url);\n      document.body.appendChild(element);\n    }\n\n    for (let i = 0; i < js_urls.length; i++) {\n      const url = js_urls[i];\n      const element = document.createElement('script');\n      element.onload = on_load;\n      element.onerror = on_error.bind(null, url);\n      element.async = false;\n      element.src = url;\n      console.debug(\"Bokeh: injecting script tag for BokehJS library: \", url);\n      document.head.appendChild(element);\n    }\n  };\n\n  function inject_raw_css(css) {\n    const element = document.createElement(\"style\");\n    element.appendChild(document.createTextNode(css));\n    document.body.appendChild(element);\n  }\n\n  const js_urls = [\"https://cdn.bokeh.org/bokeh/release/bokeh-2.4.3.min.js\", \"https://cdn.bokeh.org/bokeh/release/bokeh-gl-2.4.3.min.js\", \"https://cdn.bokeh.org/bokeh/release/bokeh-widgets-2.4.3.min.js\", \"https://cdn.bokeh.org/bokeh/release/bokeh-tables-2.4.3.min.js\", \"https://cdn.bokeh.org/bokeh/release/bokeh-mathjax-2.4.3.min.js\"];\n  const css_urls = [];\n\n  const inline_js = [    function(Bokeh) {\n      Bokeh.set_log_level(\"info\");\n    },\nfunction(Bokeh) {\n    }\n  ];\n\n  function run_inline_js() {\n    if (root.Bokeh !== undefined || force === true) {\n          for (let i = 0; i < inline_js.length; i++) {\n      inline_js[i].call(root, root.Bokeh);\n    }\n} else if (Date.now() < root._bokeh_timeout) {\n      setTimeout(run_inline_js, 100);\n    } else if (!root._bokeh_failed_load) {\n      console.log(\"Bokeh: BokehJS failed to load within specified timeout.\");\n      root._bokeh_failed_load = true;\n    } else if (force !== true) {\n      const cell = $(document.getElementById(null)).parents('.cell').data().cell;\n      cell.output_area.append_execute_result(NB_LOAD_WARNING)\n    }\n  }\n\n  if (root._bokeh_is_loading === 0) {\n    console.debug(\"Bokeh: BokehJS loaded, going straight to plotting\");\n    run_inline_js();\n  } else {\n    load_libs(css_urls, js_urls, function() {\n      console.debug(\"Bokeh: BokehJS plotting callback run at\", now());\n      run_inline_js();\n    });\n  }\n}(window));"
     },
     "metadata": {},
     "output_type": "display_data"
    },
    {
     "name": "stdout",
     "output_type": "stream",
     "text": [
      "[2023-04-26 21:31:36.878 ip-172-16-5-11.ec2.internal:13887 INFO metrics_reader_base.py:134] Getting 10 event files\n",
      "select events:['total']\n",
      "select dimensions:['CPU', 'GPU']\n",
      "filtered_events:{'total'}\n",
      "filtered_dimensions:{'CPUUtilization-nodeid:algo-1'}\n"
     ]
    },
    {
     "data": {
      "text/html": [
       "\n",
       "  <div class=\"bk-root\" id=\"3871a303-9d4a-4454-ab72-7a82e04200cf\" data-root-id=\"1045\"></div>\n"
      ]
     },
     "metadata": {},
     "output_type": "display_data"
    },
    {
     "data": {
      "application/javascript": [
       "(function(root) {\n",
       "  function embed_document(root) {\n",
       "  const docs_json = {\"26afd1a7-5961-4aaf-9752-a98d0f8883dd\":{\"defs\":[],\"roots\":{\"references\":[{\"attributes\":{\"children\":[{\"id\":\"1044\"},{\"id\":\"1002\"}]},\"id\":\"1045\",\"type\":\"Row\"},{\"attributes\":{\"dimensions\":\"width\",\"overlay\":{\"id\":\"1026\"}},\"id\":\"1021\",\"type\":\"BoxSelectTool\"},{\"attributes\":{},\"id\":\"1022\",\"type\":\"PanTool\"},{\"attributes\":{},\"id\":\"1024\",\"type\":\"SaveTool\"},{\"attributes\":{},\"id\":\"1008\",\"type\":\"LinearScale\"},{\"attributes\":{},\"id\":\"1023\",\"type\":\"ResetTool\"},{\"attributes\":{},\"id\":\"1049\",\"type\":\"BasicTickFormatter\"},{\"attributes\":{\"bottom_units\":\"screen\",\"coordinates\":null,\"fill_alpha\":0.5,\"fill_color\":\"lightgrey\",\"group\":null,\"left_units\":\"screen\",\"level\":\"overlay\",\"line_alpha\":1.0,\"line_color\":\"black\",\"line_dash\":[4,4],\"line_width\":2,\"right_units\":\"screen\",\"syncable\":false,\"top_units\":\"screen\"},\"id\":\"1026\",\"type\":\"BoxAnnotation\"},{\"attributes\":{\"axis_label\":\"CPUUtilization-nodeid:algo-1_total\",\"coordinates\":null,\"formatter\":{\"id\":\"1049\"},\"group\":null,\"major_label_policy\":{\"id\":\"1050\"},\"ticker\":{\"id\":\"1017\"}},\"id\":\"1016\",\"type\":\"LinearAxis\"},{\"attributes\":{\"source\":{\"id\":\"1034\"}},\"id\":\"1039\",\"type\":\"CDSView\"},{\"attributes\":{},\"id\":\"1050\",\"type\":\"AllLabels\"},{\"attributes\":{\"dimensions\":\"width\"},\"id\":\"1025\",\"type\":\"WheelZoomTool\"},{\"attributes\":{},\"id\":\"1052\",\"type\":\"BasicTickFormatter\"},{\"attributes\":{\"axis_label\":\"Time in ms\",\"coordinates\":null,\"formatter\":{\"id\":\"1052\"},\"group\":null,\"major_label_policy\":{\"id\":\"1053\"},\"ticker\":{\"id\":\"1013\"}},\"id\":\"1012\",\"type\":\"LinearAxis\"},{\"attributes\":{\"end\":1682544299.500509,\"start\":1682543800.000381},\"id\":\"1004\",\"type\":\"Range1d\"},{\"attributes\":{\"coordinates\":null,\"data_source\":{\"id\":\"1034\"},\"glyph\":{\"id\":\"1037\"},\"group\":null,\"hover_glyph\":null,\"view\":{\"id\":\"1041\"}},\"id\":\"1040\",\"type\":\"GlyphRenderer\"},{\"attributes\":{},\"id\":\"1053\",\"type\":\"AllLabels\"},{\"attributes\":{\"axis\":{\"id\":\"1016\"},\"coordinates\":null,\"dimension\":1,\"group\":null,\"ticker\":null,\"visible\":false},\"id\":\"1019\",\"type\":\"Grid\"},{\"attributes\":{\"source\":{\"id\":\"1034\"}},\"id\":\"1041\",\"type\":\"CDSView\"},{\"attributes\":{},\"id\":\"1013\",\"type\":\"BasicTicker\"},{\"attributes\":{},\"id\":\"1010\",\"type\":\"LinearScale\"},{\"attributes\":{\"data\":{\"x\":{\"__ndarray__\":\"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\",\"dtype\":\"float64\",\"order\":\"little\",\"shape\":[1013]},\"y\":{\"__ndarray__\":\"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\",\"dtype\":\"float64\",\"order\":\"little\",\"shape\":[1013]}},\"selected\":{\"id\":\"1055\"},\"selection_policy\":{\"id\":\"1054\"}},\"id\":\"1034\",\"type\":\"ColumnDataSource\"},{\"attributes\":{},\"id\":\"1054\",\"type\":\"UnionRenderers\"},{\"attributes\":{\"tools\":[{\"id\":\"1020\"},{\"id\":\"1021\"},{\"id\":\"1022\"},{\"id\":\"1023\"},{\"id\":\"1024\"},{\"id\":\"1025\"},{\"id\":\"1042\"}]},\"id\":\"1027\",\"type\":\"Toolbar\"},{\"attributes\":{\"coordinates\":null,\"group\":null},\"id\":\"1046\",\"type\":\"Title\"},{\"attributes\":{\"below\":[{\"id\":\"1012\"}],\"center\":[{\"id\":\"1015\"},{\"id\":\"1019\"}],\"height\":200,\"js_event_callbacks\":{\"selectiongeometry\":[{\"id\":\"1035\"}]},\"left\":[{\"id\":\"1016\"}],\"renderers\":[{\"id\":\"1038\"},{\"id\":\"1040\"}],\"title\":{\"id\":\"1046\"},\"toolbar\":{\"id\":\"1027\"},\"width\":1000,\"x_range\":{\"id\":\"1004\"},\"x_scale\":{\"id\":\"1008\"},\"y_range\":{\"id\":\"1006\"},\"y_scale\":{\"id\":\"1010\"}},\"id\":\"1003\",\"subtype\":\"Figure\",\"type\":\"Plot\"},{\"attributes\":{\"line_color\":\"blue\",\"x\":{\"field\":\"x\"},\"y\":{\"field\":\"y\"}},\"id\":\"1036\",\"type\":\"Line\"},{\"attributes\":{},\"id\":\"1055\",\"type\":\"Selection\"},{\"attributes\":{},\"id\":\"1017\",\"type\":\"BasicTicker\"},{\"attributes\":{\"children\":[{\"id\":\"1003\"}]},\"id\":\"1044\",\"type\":\"Column\"},{\"attributes\":{\"axis\":{\"id\":\"1012\"},\"coordinates\":null,\"group\":null,\"ticker\":null,\"visible\":false},\"id\":\"1015\",\"type\":\"Grid\"},{\"attributes\":{\"end\":102},\"id\":\"1006\",\"type\":\"Range1d\"},{\"attributes\":{},\"id\":\"1020\",\"type\":\"CrosshairTool\"},{\"attributes\":{\"height\":100,\"height_policy\":\"fixed\",\"width\":250},\"id\":\"1002\",\"type\":\"Div\"},{\"attributes\":{\"args\":{\"div\":{\"id\":\"1002\"},\"s1\":{\"id\":\"1034\"}},\"code\":\"\\n                            console.log('Running CustomJS callback now.');\\n                            var inds = s1.selected.indices;\\n                            console.log(inds);\\n                            var line = \\\"<span style=float:left;clear:left;font_size=13px><b> Selected index range: [\\\" + Math.min.apply(Math,inds) + \\\",\\\" + Math.max.apply(Math,inds) + \\\"]</b></span>\\\\n\\\";\\n                            console.log(line)\\n                            var text = div.text.concat(line);\\n                            var lines = text.split(\\\"\\\\n\\\")\\n                            if (lines.length > 35)\\n                                lines.shift();\\n                            div.text = lines.join(\\\"\\\\n\\\");\"},\"id\":\"1035\",\"type\":\"CustomJS\"},{\"attributes\":{\"coordinates\":null,\"data_source\":{\"id\":\"1034\"},\"glyph\":{\"id\":\"1036\"},\"group\":null,\"hover_glyph\":null,\"view\":{\"id\":\"1039\"}},\"id\":\"1038\",\"type\":\"GlyphRenderer\"},{\"attributes\":{\"fill_alpha\":{\"value\":0},\"line_width\":{\"value\":0},\"x\":{\"field\":\"x\"},\"y\":{\"field\":\"y\"}},\"id\":\"1037\",\"type\":\"Circle\"},{\"attributes\":{\"callback\":null,\"renderers\":[{\"id\":\"1040\"}],\"tooltips\":[[\"index\",\"$index\"],[\"(x,y)\",\"($x, $y)\"]]},\"id\":\"1042\",\"type\":\"HoverTool\"}],\"root_ids\":[\"1045\"]},\"title\":\"Bokeh Application\",\"version\":\"2.4.3\"}};\n",
       "  const render_items = [{\"docid\":\"26afd1a7-5961-4aaf-9752-a98d0f8883dd\",\"notebook_comms_target\":\"1057\",\"root_ids\":[\"1045\"],\"roots\":{\"1045\":\"3871a303-9d4a-4454-ab72-7a82e04200cf\"}}];\n",
       "  root.Bokeh.embed.embed_items_notebook(docs_json, render_items);\n",
       "  }\n",
       "  if (root.Bokeh !== undefined) {\n",
       "    embed_document(root);\n",
       "  } else {\n",
       "    let attempts = 0;\n",
       "    const timer = setInterval(function(root) {\n",
       "      if (root.Bokeh !== undefined) {\n",
       "        clearInterval(timer);\n",
       "        embed_document(root);\n",
       "      } else {\n",
       "        attempts++;\n",
       "        if (attempts > 100) {\n",
       "          clearInterval(timer);\n",
       "          console.log(\"Bokeh: ERROR: Unable to run BokehJS code because BokehJS library is missing\");\n",
       "        }\n",
       "      }\n",
       "    }, 10, root)\n",
       "  }\n",
       "})(window);"
      ],
      "application/vnd.bokehjs_exec.v0+json": ""
     },
     "metadata": {
      "application/vnd.bokehjs_exec.v0+json": {
       "id": "1045"
      }
     },
     "output_type": "display_data"
    }
   ],
   "source": [
    "from smdebug.profiler.analysis.notebook_utils.timeline_charts import TimelineCharts\n",
    "\n",
    "system_metrics_reader = tj.get_systems_metrics_reader()\n",
    "system_metrics_reader.refresh_event_file_list()\n",
    "\n",
    "view_timeline_charts = TimelineCharts(\n",
    "    system_metrics_reader,\n",
    "    framework_metrics_reader=None,\n",
    "    select_dimensions=[\"CPU\", \"GPU\"],\n",
    "    select_events=[\"total\"],\n",
    ")"
   ]
  },
  {
   "cell_type": "code",
   "execution_count": 26,
   "metadata": {
    "tags": []
   },
   "outputs": [
    {
     "name": "stdout",
     "output_type": "stream",
     "text": [
      "You will find the profiler report in s3://sagemaker-us-east-1-722116367570/pytorch-training-2023-04-26-21-15-10-402/rule-output\n"
     ]
    }
   ],
   "source": [
    "rule_output_path = estimator.output_path + estimator.latest_training_job.job_name + \"/rule-output\"\n",
    "print(f\"You will find the profiler report in {rule_output_path}\")\n"
   ]
  },
  {
   "cell_type": "code",
   "execution_count": 27,
   "metadata": {
    "tags": []
   },
   "outputs": [],
   "source": [
    "! aws s3 ls {rule_output_path} --recursive\n",
    "! aws s3 cp {rule_output_path} ./ --recursive"
   ]
  },
  {
   "cell_type": "code",
   "execution_count": 30,
   "metadata": {
    "tags": []
   },
   "outputs": [
    {
     "data": {
      "text/plain": [
       "[{'RuleConfigurationName': 'VanishingGradient',\n",
       "  'RuleEvaluationJobArn': 'arn:aws:sagemaker:us-east-1:722116367570:processing-job/pytorch-training-2023-04-2-vanishinggradient-cc75869d',\n",
       "  'RuleEvaluationStatus': 'NoIssuesFound',\n",
       "  'LastModifiedTime': datetime.datetime(2023, 4, 26, 21, 26, 24, 30000, tzinfo=tzlocal())},\n",
       " {'RuleConfigurationName': 'Overfit',\n",
       "  'RuleEvaluationJobArn': 'arn:aws:sagemaker:us-east-1:722116367570:processing-job/pytorch-training-2023-04-2-overfit-864c3bae',\n",
       "  'RuleEvaluationStatus': 'Error',\n",
       "  'StatusDetails': 'InternalServerError: We encountered an internal error. Please try again.',\n",
       "  'LastModifiedTime': datetime.datetime(2023, 4, 26, 21, 26, 24, 30000, tzinfo=tzlocal())},\n",
       " {'RuleConfigurationName': 'Overtraining',\n",
       "  'RuleEvaluationJobArn': 'arn:aws:sagemaker:us-east-1:722116367570:processing-job/pytorch-training-2023-04-2-overtraining-c31efc09',\n",
       "  'RuleEvaluationStatus': 'NoIssuesFound',\n",
       "  'LastModifiedTime': datetime.datetime(2023, 4, 26, 21, 26, 24, 30000, tzinfo=tzlocal())},\n",
       " {'RuleConfigurationName': 'PoorWeightInitialization',\n",
       "  'RuleEvaluationJobArn': 'arn:aws:sagemaker:us-east-1:722116367570:processing-job/pytorch-training-2023-04-2-poorweightinitialization-cc16c10b',\n",
       "  'RuleEvaluationStatus': 'IssuesFound',\n",
       "  'StatusDetails': 'RuleEvaluationConditionMet: Evaluation of the rule PoorWeightInitialization at step 0 resulted in the condition being met\\n',\n",
       "  'LastModifiedTime': datetime.datetime(2023, 4, 26, 21, 26, 24, 30000, tzinfo=tzlocal())}]"
      ]
     },
     "execution_count": 30,
     "metadata": {},
     "output_type": "execute_result"
    }
   ],
   "source": [
    "estimator.latest_training_job.rule_job_summary()"
   ]
  },
  {
   "cell_type": "code",
   "execution_count": 34,
   "metadata": {
    "tags": []
   },
   "outputs": [
    {
     "data": {
      "text/plain": [
       "4"
      ]
     },
     "execution_count": 34,
     "metadata": {},
     "output_type": "execute_result"
    }
   ],
   "source": [
    "len(trial.tensor(\"CrossEntropyLoss_output_0\").steps(mode=ModeKeys.EVAL))\n"
   ]
  },
  {
   "cell_type": "code",
   "execution_count": 35,
   "metadata": {
    "tags": []
   },
   "outputs": [
    {
     "data": {
      "text/plain": [
       "['CrossEntropyLoss_output_0',\n",
       " 'gradient/ResNet_fc.0.bias',\n",
       " 'gradient/ResNet_fc.0.weight',\n",
       " 'gradient/ResNet_fc.2.bias',\n",
       " 'gradient/ResNet_fc.2.weight',\n",
       " 'layer1.0.relu_input_0',\n",
       " 'layer1.0.relu_input_1',\n",
       " 'layer1.0.relu_input_2',\n",
       " 'layer1.1.relu_input_0',\n",
       " 'layer1.1.relu_input_1',\n",
       " 'layer1.1.relu_input_2',\n",
       " 'layer1.2.relu_input_0',\n",
       " 'layer1.2.relu_input_1',\n",
       " 'layer1.2.relu_input_2',\n",
       " 'layer2.0.relu_input_0',\n",
       " 'layer2.0.relu_input_1',\n",
       " 'layer2.0.relu_input_2',\n",
       " 'layer2.1.relu_input_0',\n",
       " 'layer2.1.relu_input_1',\n",
       " 'layer2.1.relu_input_2',\n",
       " 'layer2.2.relu_input_0',\n",
       " 'layer2.2.relu_input_1',\n",
       " 'layer2.2.relu_input_2',\n",
       " 'layer2.3.relu_input_0',\n",
       " 'layer2.3.relu_input_1',\n",
       " 'layer2.3.relu_input_2',\n",
       " 'layer3.0.relu_input_0',\n",
       " 'layer3.0.relu_input_1',\n",
       " 'layer3.0.relu_input_2',\n",
       " 'layer3.1.relu_input_0',\n",
       " 'layer3.1.relu_input_1',\n",
       " 'layer3.1.relu_input_2',\n",
       " 'layer3.2.relu_input_0',\n",
       " 'layer3.2.relu_input_1',\n",
       " 'layer3.2.relu_input_2',\n",
       " 'layer3.3.relu_input_0',\n",
       " 'layer3.3.relu_input_1',\n",
       " 'layer3.3.relu_input_2',\n",
       " 'layer3.4.relu_input_0',\n",
       " 'layer3.4.relu_input_1',\n",
       " 'layer3.4.relu_input_2',\n",
       " 'layer3.5.relu_input_0',\n",
       " 'layer3.5.relu_input_1',\n",
       " 'layer3.5.relu_input_2',\n",
       " 'layer4.0.relu_input_0',\n",
       " 'layer4.0.relu_input_1',\n",
       " 'layer4.0.relu_input_2',\n",
       " 'layer4.1.relu_input_0',\n",
       " 'layer4.1.relu_input_1',\n",
       " 'layer4.1.relu_input_2',\n",
       " 'layer4.2.relu_input_0',\n",
       " 'layer4.2.relu_input_1',\n",
       " 'layer4.2.relu_input_2',\n",
       " 'relu_input_0']"
      ]
     },
     "execution_count": 35,
     "metadata": {},
     "output_type": "execute_result"
    }
   ],
   "source": [
    "trial.tensor_names()\n"
   ]
  },
  {
   "cell_type": "code",
   "execution_count": 36,
   "metadata": {
    "tags": []
   },
   "outputs": [
    {
     "data": {
      "text/plain": [
       "1"
      ]
     },
     "execution_count": 36,
     "metadata": {},
     "output_type": "execute_result"
    }
   ],
   "source": [
    "len(trial.tensor(\"CrossEntropyLoss_output_0\").steps(mode=ModeKeys.TRAIN))\n"
   ]
  },
  {
   "cell_type": "code",
   "execution_count": 32,
   "metadata": {
    "tags": []
   },
   "outputs": [
    {
     "data": {
      "text/plain": [
       "[]"
      ]
     },
     "execution_count": 32,
     "metadata": {},
     "output_type": "execute_result"
    }
   ],
   "source": [
    "# get the autogenerated folder name of profiler report\n",
    "profiler_report_name = [\n",
    "    rule[\"RuleConfigurationName\"]\n",
    "    for rule in estimator.latest_training_job.rule_job_summary()\n",
    "    if \"Profiler\" in rule[\"RuleConfigurationName\"]\n",
    "]\n",
    "profiler_report_name"
   ]
  },
  {
   "cell_type": "markdown",
   "metadata": {},
   "source": [
    "**TODO**: Is there some anomalous behaviour in your debugging output? If so, what is the error and how will you fix it?  \n",
    "**TODO**: If not, suppose there was an error. What would that error look like and how would you have fixed it?"
   ]
  },
  {
   "cell_type": "code",
   "execution_count": null,
   "metadata": {},
   "outputs": [],
   "source": [
    "# TODO: Display the profiler output"
   ]
  },
  {
   "cell_type": "markdown",
   "metadata": {},
   "source": [
    "## Model Deploying"
   ]
  },
  {
   "cell_type": "code",
   "execution_count": null,
   "metadata": {},
   "outputs": [],
   "source": [
    "# TODO: Deploy your model to an endpoint\n",
    "\n",
    "predictor=estimator.deploy() # TODO: Add your deployment configuration like instance type and number of instances"
   ]
  },
  {
   "cell_type": "code",
   "execution_count": null,
   "metadata": {},
   "outputs": [],
   "source": [
    "# TODO: Run an prediction on the endpoint\n",
    "\n",
    "image = # TODO: Your code to load and preprocess image to send to endpoint for prediction\n",
    "response = predictor.predict(image)"
   ]
  },
  {
   "cell_type": "code",
   "execution_count": null,
   "metadata": {},
   "outputs": [],
   "source": [
    "# TODO: Remember to shutdown/delete your endpoint once your work is done\n",
    "predictor.delete_endpoint()"
   ]
  },
  {
   "cell_type": "code",
   "execution_count": null,
   "metadata": {},
   "outputs": [],
   "source": []
  }
 ],
 "metadata": {
  "instance_type": "ml.g4dn.xlarge",
  "kernelspec": {
   "display_name": "conda_amazonei_pytorch_latest_p37",
   "language": "python",
   "name": "conda_amazonei_pytorch_latest_p37"
  },
  "language_info": {
   "codemirror_mode": {
    "name": "ipython",
    "version": 3
   },
   "file_extension": ".py",
   "mimetype": "text/x-python",
   "name": "python",
   "nbconvert_exporter": "python",
   "pygments_lexer": "ipython3",
   "version": "3.7.10"
  }
 },
 "nbformat": 4,
 "nbformat_minor": 4
}
